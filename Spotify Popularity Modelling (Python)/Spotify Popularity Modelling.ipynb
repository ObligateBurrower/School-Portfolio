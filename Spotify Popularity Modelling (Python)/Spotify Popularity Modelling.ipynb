{
 "cells": [
  {
   "cell_type": "code",
   "execution_count": 1,
   "id": "4f51e25d",
   "metadata": {},
   "outputs": [],
   "source": [
    "# Justin Madsen\n",
    "# DSC630 / Fadi Alsaleem\n",
    "\n",
    "# import the boys\n",
    "import numpy as np\n",
    "import pandas as pd\n",
    "\n",
    "\n",
    "\n",
    "import matplotlib as mpl\n",
    "import matplotlib.pyplot as plt\n",
    "\n",
    "%matplotlib inline\n",
    "import seaborn as sns\n",
    "\n",
    "import nltk\n",
    "from nltk.corpus import stopwords, wordnet\n",
    "from nltk.stem import WordNetLemmatizer\n",
    "from nltk.stem.porter import PorterStemmer\n",
    "\n",
    "import sklearn\n",
    "from sklearn.compose import make_column_transformer\n",
    "from sklearn.feature_extraction.text import CountVectorizer, TfidfVectorizer\n",
    "from sklearn.linear_model import LogisticRegression\n",
    "from sklearn.pipeline import make_pipeline\n",
    "from sklearn.metrics import classification_report, confusion_matrix, roc_curve, accuracy_score\n",
    "from sklearn.model_selection import cross_val_score, GridSearchCV, RepeatedStratifiedKFold, StratifiedShuffleSplit\n",
    "from sklearn.preprocessing import OneHotEncoder, OrdinalEncoder, StandardScaler\n",
    "\n",
    "\n",
    "import re\n",
    "import string\n",
    "\n",
    "pd.options.mode.chained_assignment = None\n",
    "pd.set_option('display.max_rows', 25)\n",
    "pd.set_option('display.max_columns', 25)\n",
    "pd.set_option('display.width', 1000)"
   ]
  },
  {
   "cell_type": "code",
   "execution_count": 2,
   "id": "e512de64",
   "metadata": {},
   "outputs": [],
   "source": [
    "# https://www.kaggle.com/datasets/prasertk/oil-and-gas-stock-prices\n",
    "# import the dataset\n",
    "spotify_df = pd.read_csv('songs_normalize.csv')"
   ]
  },
  {
   "cell_type": "code",
   "execution_count": 3,
   "id": "b23fbfe1",
   "metadata": {},
   "outputs": [
    {
     "data": {
      "text/html": [
       "<div>\n",
       "<style scoped>\n",
       "    .dataframe tbody tr th:only-of-type {\n",
       "        vertical-align: middle;\n",
       "    }\n",
       "\n",
       "    .dataframe tbody tr th {\n",
       "        vertical-align: top;\n",
       "    }\n",
       "\n",
       "    .dataframe thead th {\n",
       "        text-align: right;\n",
       "    }\n",
       "</style>\n",
       "<table border=\"1\" class=\"dataframe\">\n",
       "  <thead>\n",
       "    <tr style=\"text-align: right;\">\n",
       "      <th></th>\n",
       "      <th>artist</th>\n",
       "      <th>song</th>\n",
       "      <th>duration_ms</th>\n",
       "      <th>explicit</th>\n",
       "      <th>year</th>\n",
       "      <th>popularity</th>\n",
       "      <th>danceability</th>\n",
       "      <th>energy</th>\n",
       "      <th>key</th>\n",
       "      <th>loudness</th>\n",
       "      <th>mode</th>\n",
       "      <th>speechiness</th>\n",
       "      <th>acousticness</th>\n",
       "      <th>instrumentalness</th>\n",
       "      <th>liveness</th>\n",
       "      <th>valence</th>\n",
       "      <th>tempo</th>\n",
       "      <th>genre</th>\n",
       "    </tr>\n",
       "  </thead>\n",
       "  <tbody>\n",
       "    <tr>\n",
       "      <th>0</th>\n",
       "      <td>Britney Spears</td>\n",
       "      <td>Oops!...I Did It Again</td>\n",
       "      <td>211160</td>\n",
       "      <td>False</td>\n",
       "      <td>2000</td>\n",
       "      <td>77</td>\n",
       "      <td>0.751</td>\n",
       "      <td>0.834</td>\n",
       "      <td>1</td>\n",
       "      <td>-5.444</td>\n",
       "      <td>0</td>\n",
       "      <td>0.0437</td>\n",
       "      <td>0.3000</td>\n",
       "      <td>0.000018</td>\n",
       "      <td>0.355</td>\n",
       "      <td>0.894</td>\n",
       "      <td>95.053</td>\n",
       "      <td>pop</td>\n",
       "    </tr>\n",
       "    <tr>\n",
       "      <th>1</th>\n",
       "      <td>blink-182</td>\n",
       "      <td>All The Small Things</td>\n",
       "      <td>167066</td>\n",
       "      <td>False</td>\n",
       "      <td>1999</td>\n",
       "      <td>79</td>\n",
       "      <td>0.434</td>\n",
       "      <td>0.897</td>\n",
       "      <td>0</td>\n",
       "      <td>-4.918</td>\n",
       "      <td>1</td>\n",
       "      <td>0.0488</td>\n",
       "      <td>0.0103</td>\n",
       "      <td>0.000000</td>\n",
       "      <td>0.612</td>\n",
       "      <td>0.684</td>\n",
       "      <td>148.726</td>\n",
       "      <td>rock, pop</td>\n",
       "    </tr>\n",
       "  </tbody>\n",
       "</table>\n",
       "</div>"
      ],
      "text/plain": [
       "           artist                    song  duration_ms  explicit  year  popularity  danceability  energy  key  loudness  mode  speechiness  acousticness  instrumentalness  liveness  valence    tempo      genre\n",
       "0  Britney Spears  Oops!...I Did It Again       211160     False  2000          77         0.751   0.834    1    -5.444     0       0.0437        0.3000          0.000018     0.355    0.894   95.053        pop\n",
       "1       blink-182    All The Small Things       167066     False  1999          79         0.434   0.897    0    -4.918     1       0.0488        0.0103          0.000000     0.612    0.684  148.726  rock, pop"
      ]
     },
     "execution_count": 3,
     "metadata": {},
     "output_type": "execute_result"
    }
   ],
   "source": [
    "# did it work?\n",
    "spotify_df.head(2)"
   ]
  },
  {
   "cell_type": "code",
   "execution_count": 4,
   "id": "bc4f0a33",
   "metadata": {},
   "outputs": [
    {
     "data": {
      "text/plain": [
       "(2000, 18)"
      ]
     },
     "execution_count": 4,
     "metadata": {},
     "output_type": "execute_result"
    }
   ],
   "source": [
    "# get a baseline for the shape\n",
    "spotify_df.shape"
   ]
  },
  {
   "cell_type": "code",
   "execution_count": 5,
   "id": "120ac295",
   "metadata": {},
   "outputs": [],
   "source": [
    "# let's convert the genres into a list rather than a basic string\n",
    "def genre_to_list(df):\n",
    "    df['genre_list'] = df['genre'].apply(lambda x: x.split(\" \"))\n",
    "    return df"
   ]
  },
  {
   "cell_type": "code",
   "execution_count": 6,
   "id": "38367993",
   "metadata": {},
   "outputs": [
    {
     "data": {
      "text/html": [
       "<div>\n",
       "<style scoped>\n",
       "    .dataframe tbody tr th:only-of-type {\n",
       "        vertical-align: middle;\n",
       "    }\n",
       "\n",
       "    .dataframe tbody tr th {\n",
       "        vertical-align: top;\n",
       "    }\n",
       "\n",
       "    .dataframe thead th {\n",
       "        text-align: right;\n",
       "    }\n",
       "</style>\n",
       "<table border=\"1\" class=\"dataframe\">\n",
       "  <thead>\n",
       "    <tr style=\"text-align: right;\">\n",
       "      <th></th>\n",
       "      <th>artist</th>\n",
       "      <th>song</th>\n",
       "      <th>duration_ms</th>\n",
       "      <th>explicit</th>\n",
       "      <th>year</th>\n",
       "      <th>popularity</th>\n",
       "      <th>danceability</th>\n",
       "      <th>energy</th>\n",
       "      <th>key</th>\n",
       "      <th>loudness</th>\n",
       "      <th>mode</th>\n",
       "      <th>speechiness</th>\n",
       "      <th>acousticness</th>\n",
       "      <th>instrumentalness</th>\n",
       "      <th>liveness</th>\n",
       "      <th>valence</th>\n",
       "      <th>tempo</th>\n",
       "      <th>genre</th>\n",
       "      <th>genre_list</th>\n",
       "    </tr>\n",
       "  </thead>\n",
       "  <tbody>\n",
       "    <tr>\n",
       "      <th>0</th>\n",
       "      <td>Britney Spears</td>\n",
       "      <td>Oops!...I Did It Again</td>\n",
       "      <td>211160</td>\n",
       "      <td>False</td>\n",
       "      <td>2000</td>\n",
       "      <td>77</td>\n",
       "      <td>0.751</td>\n",
       "      <td>0.834</td>\n",
       "      <td>1</td>\n",
       "      <td>-5.444</td>\n",
       "      <td>0</td>\n",
       "      <td>0.0437</td>\n",
       "      <td>0.3000</td>\n",
       "      <td>0.000018</td>\n",
       "      <td>0.355</td>\n",
       "      <td>0.894</td>\n",
       "      <td>95.053</td>\n",
       "      <td>pop</td>\n",
       "      <td>[pop]</td>\n",
       "    </tr>\n",
       "    <tr>\n",
       "      <th>1</th>\n",
       "      <td>blink-182</td>\n",
       "      <td>All The Small Things</td>\n",
       "      <td>167066</td>\n",
       "      <td>False</td>\n",
       "      <td>1999</td>\n",
       "      <td>79</td>\n",
       "      <td>0.434</td>\n",
       "      <td>0.897</td>\n",
       "      <td>0</td>\n",
       "      <td>-4.918</td>\n",
       "      <td>1</td>\n",
       "      <td>0.0488</td>\n",
       "      <td>0.0103</td>\n",
       "      <td>0.000000</td>\n",
       "      <td>0.612</td>\n",
       "      <td>0.684</td>\n",
       "      <td>148.726</td>\n",
       "      <td>rock, pop</td>\n",
       "      <td>[rock,, pop]</td>\n",
       "    </tr>\n",
       "  </tbody>\n",
       "</table>\n",
       "</div>"
      ],
      "text/plain": [
       "           artist                    song  duration_ms  explicit  year  popularity  danceability  energy  key  loudness  mode  speechiness  acousticness  instrumentalness  liveness  valence    tempo      genre    genre_list\n",
       "0  Britney Spears  Oops!...I Did It Again       211160     False  2000          77         0.751   0.834    1    -5.444     0       0.0437        0.3000          0.000018     0.355    0.894   95.053        pop         [pop]\n",
       "1       blink-182    All The Small Things       167066     False  1999          79         0.434   0.897    0    -4.918     1       0.0488        0.0103          0.000000     0.612    0.684  148.726  rock, pop  [rock,, pop]"
      ]
     },
     "execution_count": 6,
     "metadata": {},
     "output_type": "execute_result"
    }
   ],
   "source": [
    "# conversion time\n",
    "spotify_df = genre_to_list(spotify_df)\n",
    "\n",
    "# did it work?\n",
    "spotify_df.head(2)"
   ]
  },
  {
   "cell_type": "code",
   "execution_count": 7,
   "id": "ccb44aef",
   "metadata": {},
   "outputs": [
    {
     "data": {
      "text/html": [
       "<div>\n",
       "<style scoped>\n",
       "    .dataframe tbody tr th:only-of-type {\n",
       "        vertical-align: middle;\n",
       "    }\n",
       "\n",
       "    .dataframe tbody tr th {\n",
       "        vertical-align: top;\n",
       "    }\n",
       "\n",
       "    .dataframe thead th {\n",
       "        text-align: right;\n",
       "    }\n",
       "</style>\n",
       "<table border=\"1\" class=\"dataframe\">\n",
       "  <thead>\n",
       "    <tr style=\"text-align: right;\">\n",
       "      <th></th>\n",
       "      <th>count</th>\n",
       "      <th>mean</th>\n",
       "      <th>std</th>\n",
       "      <th>min</th>\n",
       "      <th>25%</th>\n",
       "      <th>50%</th>\n",
       "      <th>75%</th>\n",
       "      <th>max</th>\n",
       "    </tr>\n",
       "  </thead>\n",
       "  <tbody>\n",
       "    <tr>\n",
       "      <th>duration_ms</th>\n",
       "      <td>2000.0</td>\n",
       "      <td>228748.124500</td>\n",
       "      <td>39136.569008</td>\n",
       "      <td>113000.000000</td>\n",
       "      <td>203580.00000</td>\n",
       "      <td>223279.50000</td>\n",
       "      <td>248133.000000</td>\n",
       "      <td>484146.000</td>\n",
       "    </tr>\n",
       "    <tr>\n",
       "      <th>year</th>\n",
       "      <td>2000.0</td>\n",
       "      <td>2009.494000</td>\n",
       "      <td>5.859960</td>\n",
       "      <td>1998.000000</td>\n",
       "      <td>2004.00000</td>\n",
       "      <td>2010.00000</td>\n",
       "      <td>2015.000000</td>\n",
       "      <td>2020.000</td>\n",
       "    </tr>\n",
       "    <tr>\n",
       "      <th>popularity</th>\n",
       "      <td>2000.0</td>\n",
       "      <td>59.872500</td>\n",
       "      <td>21.335577</td>\n",
       "      <td>0.000000</td>\n",
       "      <td>56.00000</td>\n",
       "      <td>65.50000</td>\n",
       "      <td>73.000000</td>\n",
       "      <td>89.000</td>\n",
       "    </tr>\n",
       "    <tr>\n",
       "      <th>danceability</th>\n",
       "      <td>2000.0</td>\n",
       "      <td>0.667437</td>\n",
       "      <td>0.140416</td>\n",
       "      <td>0.129000</td>\n",
       "      <td>0.58100</td>\n",
       "      <td>0.67600</td>\n",
       "      <td>0.764000</td>\n",
       "      <td>0.975</td>\n",
       "    </tr>\n",
       "    <tr>\n",
       "      <th>energy</th>\n",
       "      <td>2000.0</td>\n",
       "      <td>0.720366</td>\n",
       "      <td>0.152745</td>\n",
       "      <td>0.054900</td>\n",
       "      <td>0.62200</td>\n",
       "      <td>0.73600</td>\n",
       "      <td>0.839000</td>\n",
       "      <td>0.999</td>\n",
       "    </tr>\n",
       "    <tr>\n",
       "      <th>key</th>\n",
       "      <td>2000.0</td>\n",
       "      <td>5.378000</td>\n",
       "      <td>3.615059</td>\n",
       "      <td>0.000000</td>\n",
       "      <td>2.00000</td>\n",
       "      <td>6.00000</td>\n",
       "      <td>8.000000</td>\n",
       "      <td>11.000</td>\n",
       "    </tr>\n",
       "    <tr>\n",
       "      <th>loudness</th>\n",
       "      <td>2000.0</td>\n",
       "      <td>-5.512435</td>\n",
       "      <td>1.933482</td>\n",
       "      <td>-20.514000</td>\n",
       "      <td>-6.49025</td>\n",
       "      <td>-5.28500</td>\n",
       "      <td>-4.167750</td>\n",
       "      <td>-0.276</td>\n",
       "    </tr>\n",
       "    <tr>\n",
       "      <th>mode</th>\n",
       "      <td>2000.0</td>\n",
       "      <td>0.553500</td>\n",
       "      <td>0.497254</td>\n",
       "      <td>0.000000</td>\n",
       "      <td>0.00000</td>\n",
       "      <td>1.00000</td>\n",
       "      <td>1.000000</td>\n",
       "      <td>1.000</td>\n",
       "    </tr>\n",
       "    <tr>\n",
       "      <th>speechiness</th>\n",
       "      <td>2000.0</td>\n",
       "      <td>0.103568</td>\n",
       "      <td>0.096159</td>\n",
       "      <td>0.023200</td>\n",
       "      <td>0.03960</td>\n",
       "      <td>0.05985</td>\n",
       "      <td>0.129000</td>\n",
       "      <td>0.576</td>\n",
       "    </tr>\n",
       "    <tr>\n",
       "      <th>acousticness</th>\n",
       "      <td>2000.0</td>\n",
       "      <td>0.128955</td>\n",
       "      <td>0.173346</td>\n",
       "      <td>0.000019</td>\n",
       "      <td>0.01400</td>\n",
       "      <td>0.05570</td>\n",
       "      <td>0.176250</td>\n",
       "      <td>0.976</td>\n",
       "    </tr>\n",
       "    <tr>\n",
       "      <th>instrumentalness</th>\n",
       "      <td>2000.0</td>\n",
       "      <td>0.015226</td>\n",
       "      <td>0.087771</td>\n",
       "      <td>0.000000</td>\n",
       "      <td>0.00000</td>\n",
       "      <td>0.00000</td>\n",
       "      <td>0.000068</td>\n",
       "      <td>0.985</td>\n",
       "    </tr>\n",
       "    <tr>\n",
       "      <th>liveness</th>\n",
       "      <td>2000.0</td>\n",
       "      <td>0.181216</td>\n",
       "      <td>0.140669</td>\n",
       "      <td>0.021500</td>\n",
       "      <td>0.08810</td>\n",
       "      <td>0.12400</td>\n",
       "      <td>0.241000</td>\n",
       "      <td>0.853</td>\n",
       "    </tr>\n",
       "    <tr>\n",
       "      <th>valence</th>\n",
       "      <td>2000.0</td>\n",
       "      <td>0.551690</td>\n",
       "      <td>0.220864</td>\n",
       "      <td>0.038100</td>\n",
       "      <td>0.38675</td>\n",
       "      <td>0.55750</td>\n",
       "      <td>0.730000</td>\n",
       "      <td>0.973</td>\n",
       "    </tr>\n",
       "    <tr>\n",
       "      <th>tempo</th>\n",
       "      <td>2000.0</td>\n",
       "      <td>120.122558</td>\n",
       "      <td>26.967112</td>\n",
       "      <td>60.019000</td>\n",
       "      <td>98.98575</td>\n",
       "      <td>120.02150</td>\n",
       "      <td>134.265500</td>\n",
       "      <td>210.851</td>\n",
       "    </tr>\n",
       "  </tbody>\n",
       "</table>\n",
       "</div>"
      ],
      "text/plain": [
       "                   count           mean           std            min           25%           50%            75%         max\n",
       "duration_ms       2000.0  228748.124500  39136.569008  113000.000000  203580.00000  223279.50000  248133.000000  484146.000\n",
       "year              2000.0    2009.494000      5.859960    1998.000000    2004.00000    2010.00000    2015.000000    2020.000\n",
       "popularity        2000.0      59.872500     21.335577       0.000000      56.00000      65.50000      73.000000      89.000\n",
       "danceability      2000.0       0.667437      0.140416       0.129000       0.58100       0.67600       0.764000       0.975\n",
       "energy            2000.0       0.720366      0.152745       0.054900       0.62200       0.73600       0.839000       0.999\n",
       "key               2000.0       5.378000      3.615059       0.000000       2.00000       6.00000       8.000000      11.000\n",
       "loudness          2000.0      -5.512435      1.933482     -20.514000      -6.49025      -5.28500      -4.167750      -0.276\n",
       "mode              2000.0       0.553500      0.497254       0.000000       0.00000       1.00000       1.000000       1.000\n",
       "speechiness       2000.0       0.103568      0.096159       0.023200       0.03960       0.05985       0.129000       0.576\n",
       "acousticness      2000.0       0.128955      0.173346       0.000019       0.01400       0.05570       0.176250       0.976\n",
       "instrumentalness  2000.0       0.015226      0.087771       0.000000       0.00000       0.00000       0.000068       0.985\n",
       "liveness          2000.0       0.181216      0.140669       0.021500       0.08810       0.12400       0.241000       0.853\n",
       "valence           2000.0       0.551690      0.220864       0.038100       0.38675       0.55750       0.730000       0.973\n",
       "tempo             2000.0     120.122558     26.967112      60.019000      98.98575     120.02150     134.265500     210.851"
      ]
     },
     "execution_count": 7,
     "metadata": {},
     "output_type": "execute_result"
    }
   ],
   "source": [
    "# let's describe the data, and pivot the table with .T\n",
    "spotify_df.describe().T"
   ]
  },
  {
   "cell_type": "code",
   "execution_count": 8,
   "id": "5f2945a5",
   "metadata": {},
   "outputs": [
    {
     "data": {
      "image/png": "[encoded data removed]",
      "text/plain": [
       "<Figure size 1440x1080 with 16 Axes>"
      ]
     },
     "metadata": {
      "needs_background": "light"
     },
     "output_type": "display_data"
    }
   ],
   "source": [
    "# let's plot histograms for each variable to see what the distributions look like\n",
    "spotify_df.hist(bins=50, figsize=(20,15))\n",
    "plt.show()"
   ]
  },
  {
   "cell_type": "code",
   "execution_count": 9,
   "id": "7ae0b078",
   "metadata": {},
   "outputs": [],
   "source": [
    "# here we'll convert the popularity into bins for popular/not popular\n",
    "spotify_df[\"popularity_binned\"] = pd.cut(spotify_df[\"popularity\"],\n",
    "                              bins = [0, 62, 90],\n",
    "                              labels = [0, 1], include_lowest=True)"
   ]
  },
  {
   "cell_type": "code",
   "execution_count": 10,
   "id": "3361fc34",
   "metadata": {},
   "outputs": [
    {
     "data": {
      "text/plain": [
       "1    59.3\n",
       "0    40.7\n",
       "Name: popularity_binned, dtype: float64"
      ]
     },
     "execution_count": 10,
     "metadata": {},
     "output_type": "execute_result"
    }
   ],
   "source": [
    "# let's show the distribution of pop vs not pop\n",
    "spotify_df[\"popularity_binned\"].value_counts(dropna=False, normalize=True)*100"
   ]
  },
  {
   "cell_type": "code",
   "execution_count": 11,
   "id": "71b995f3",
   "metadata": {},
   "outputs": [],
   "source": [
    "# I originally had an entire section for deleting duplicates, however this broke the SSS due to indexing issues. \n",
    "# these have since been removed and this started working again.\n",
    "\n",
    "split = StratifiedShuffleSplit(n_splits=1 ,test_size=0.2, random_state=9001)\n",
    "\n",
    "for train_index, test_index in split.split(spotify_df, spotify_df[\"popularity_binned\"]):\n",
    "    split_train = spotify_df.loc[train_index]\n",
    "    split_test = spotify_df.loc[test_index]"
   ]
  },
  {
   "cell_type": "code",
   "execution_count": 12,
   "id": "4c4fd03d",
   "metadata": {},
   "outputs": [
    {
     "name": "stderr",
     "output_type": "stream",
     "text": [
      "C:\\Users\\MYDICK~1\\AppData\\Local\\Temp/ipykernel_44148/1428877543.py:2: FutureWarning: Dropping of nuisance columns in DataFrame reductions (with 'numeric_only=None') is deprecated; in a future version this will raise TypeError.  Select only valid columns before calling the reduction.\n",
      "  skew = pd.Series(split_train.skew(),name=\"skew\")\n",
      "C:\\Users\\MYDICK~1\\AppData\\Local\\Temp/ipykernel_44148/1428877543.py:3: FutureWarning: Dropping of nuisance columns in DataFrame reductions (with 'numeric_only=None') is deprecated; in a future version this will raise TypeError.  Select only valid columns before calling the reduction.\n",
      "  kurtosis = pd.Series(split_train.kurtosis(),name=\"kurtosis\")\n"
     ]
    },
    {
     "data": {
      "text/html": [
       "<div>\n",
       "<style scoped>\n",
       "    .dataframe tbody tr th:only-of-type {\n",
       "        vertical-align: middle;\n",
       "    }\n",
       "\n",
       "    .dataframe tbody tr th {\n",
       "        vertical-align: top;\n",
       "    }\n",
       "\n",
       "    .dataframe thead th {\n",
       "        text-align: right;\n",
       "    }\n",
       "</style>\n",
       "<table border=\"1\" class=\"dataframe\">\n",
       "  <thead>\n",
       "    <tr style=\"text-align: right;\">\n",
       "      <th></th>\n",
       "      <th>skew</th>\n",
       "      <th>kurtosis</th>\n",
       "    </tr>\n",
       "  </thead>\n",
       "  <tbody>\n",
       "    <tr>\n",
       "      <th>duration_ms</th>\n",
       "      <td>1.018902</td>\n",
       "      <td>3.265376</td>\n",
       "    </tr>\n",
       "    <tr>\n",
       "      <th>explicit</th>\n",
       "      <td>1.022867</td>\n",
       "      <td>-0.954939</td>\n",
       "    </tr>\n",
       "    <tr>\n",
       "      <th>year</th>\n",
       "      <td>-0.028587</td>\n",
       "      <td>-1.200091</td>\n",
       "    </tr>\n",
       "    <tr>\n",
       "      <th>popularity</th>\n",
       "      <td>-1.845393</td>\n",
       "      <td>2.757777</td>\n",
       "    </tr>\n",
       "    <tr>\n",
       "      <th>danceability</th>\n",
       "      <td>-0.459228</td>\n",
       "      <td>0.159500</td>\n",
       "    </tr>\n",
       "    <tr>\n",
       "      <th>energy</th>\n",
       "      <td>-0.656024</td>\n",
       "      <td>0.312530</td>\n",
       "    </tr>\n",
       "    <tr>\n",
       "      <th>key</th>\n",
       "      <td>-0.012106</td>\n",
       "      <td>-1.288990</td>\n",
       "    </tr>\n",
       "    <tr>\n",
       "      <th>loudness</th>\n",
       "      <td>-1.262497</td>\n",
       "      <td>4.363057</td>\n",
       "    </tr>\n",
       "    <tr>\n",
       "      <th>mode</th>\n",
       "      <td>-0.206279</td>\n",
       "      <td>-1.959900</td>\n",
       "    </tr>\n",
       "    <tr>\n",
       "      <th>speechiness</th>\n",
       "      <td>1.774119</td>\n",
       "      <td>2.687664</td>\n",
       "    </tr>\n",
       "    <tr>\n",
       "      <th>acousticness</th>\n",
       "      <td>2.119104</td>\n",
       "      <td>4.786895</td>\n",
       "    </tr>\n",
       "    <tr>\n",
       "      <th>instrumentalness</th>\n",
       "      <td>7.261777</td>\n",
       "      <td>56.163529</td>\n",
       "    </tr>\n",
       "    <tr>\n",
       "      <th>liveness</th>\n",
       "      <td>1.914616</td>\n",
       "      <td>4.149754</td>\n",
       "    </tr>\n",
       "    <tr>\n",
       "      <th>valence</th>\n",
       "      <td>-0.133275</td>\n",
       "      <td>-0.842183</td>\n",
       "    </tr>\n",
       "    <tr>\n",
       "      <th>tempo</th>\n",
       "      <td>0.601136</td>\n",
       "      <td>0.134137</td>\n",
       "    </tr>\n",
       "  </tbody>\n",
       "</table>\n",
       "</div>"
      ],
      "text/plain": [
       "                      skew   kurtosis\n",
       "duration_ms       1.018902   3.265376\n",
       "explicit          1.022867  -0.954939\n",
       "year             -0.028587  -1.200091\n",
       "popularity       -1.845393   2.757777\n",
       "danceability     -0.459228   0.159500\n",
       "energy           -0.656024   0.312530\n",
       "key              -0.012106  -1.288990\n",
       "loudness         -1.262497   4.363057\n",
       "mode             -0.206279  -1.959900\n",
       "speechiness       1.774119   2.687664\n",
       "acousticness      2.119104   4.786895\n",
       "instrumentalness  7.261777  56.163529\n",
       "liveness          1.914616   4.149754\n",
       "valence          -0.133275  -0.842183\n",
       "tempo             0.601136   0.134137"
      ]
     },
     "execution_count": 12,
     "metadata": {},
     "output_type": "execute_result"
    }
   ],
   "source": [
    "# let's check the skew and kurtosis for the data\n",
    "skew = pd.Series(split_train.skew(),name=\"skew\")\n",
    "kurtosis = pd.Series(split_train.kurtosis(),name=\"kurtosis\")\n",
    "pd.concat([skew,kurtosis],axis =1)"
   ]
  },
  {
   "cell_type": "markdown",
   "id": "bb00373f",
   "metadata": {},
   "source": [
    "Speechiness, loudness, instrumentalness and liveness are skewed. While instrumentalness has quite a high kurtosis. StandardScaler() may be helpful to bring this all in line with each other."
   ]
  },
  {
   "cell_type": "code",
   "execution_count": 13,
   "id": "3c80acd4",
   "metadata": {},
   "outputs": [
    {
     "data": {
      "text/html": [
       "<div>\n",
       "<style scoped>\n",
       "    .dataframe tbody tr th:only-of-type {\n",
       "        vertical-align: middle;\n",
       "    }\n",
       "\n",
       "    .dataframe tbody tr th {\n",
       "        vertical-align: top;\n",
       "    }\n",
       "\n",
       "    .dataframe thead th {\n",
       "        text-align: right;\n",
       "    }\n",
       "</style>\n",
       "<table border=\"1\" class=\"dataframe\">\n",
       "  <thead>\n",
       "    <tr style=\"text-align: right;\">\n",
       "      <th></th>\n",
       "      <th>artist</th>\n",
       "      <th>song</th>\n",
       "      <th>duration_ms</th>\n",
       "      <th>explicit</th>\n",
       "      <th>year</th>\n",
       "      <th>popularity</th>\n",
       "      <th>danceability</th>\n",
       "      <th>energy</th>\n",
       "      <th>key</th>\n",
       "      <th>loudness</th>\n",
       "      <th>mode</th>\n",
       "      <th>speechiness</th>\n",
       "      <th>acousticness</th>\n",
       "      <th>instrumentalness</th>\n",
       "      <th>liveness</th>\n",
       "      <th>valence</th>\n",
       "      <th>tempo</th>\n",
       "      <th>genre</th>\n",
       "      <th>genre_list</th>\n",
       "      <th>popularity_binned</th>\n",
       "    </tr>\n",
       "  </thead>\n",
       "  <tbody>\n",
       "    <tr>\n",
       "      <th>1869</th>\n",
       "      <td>Drake</td>\n",
       "      <td>In My Feelings</td>\n",
       "      <td>217925</td>\n",
       "      <td>True</td>\n",
       "      <td>2018</td>\n",
       "      <td>75</td>\n",
       "      <td>0.835</td>\n",
       "      <td>0.626</td>\n",
       "      <td>1</td>\n",
       "      <td>-5.833</td>\n",
       "      <td>1</td>\n",
       "      <td>0.1250</td>\n",
       "      <td>0.0589</td>\n",
       "      <td>0.00006</td>\n",
       "      <td>0.396</td>\n",
       "      <td>0.350</td>\n",
       "      <td>91.030</td>\n",
       "      <td>hip hop, pop, R&amp;B</td>\n",
       "      <td>[hip, hop,, pop,, R&amp;B]</td>\n",
       "      <td>1</td>\n",
       "    </tr>\n",
       "    <tr>\n",
       "      <th>1511</th>\n",
       "      <td>The Weeknd</td>\n",
       "      <td>The Hills</td>\n",
       "      <td>242253</td>\n",
       "      <td>True</td>\n",
       "      <td>2015</td>\n",
       "      <td>84</td>\n",
       "      <td>0.585</td>\n",
       "      <td>0.564</td>\n",
       "      <td>0</td>\n",
       "      <td>-7.063</td>\n",
       "      <td>0</td>\n",
       "      <td>0.0515</td>\n",
       "      <td>0.0671</td>\n",
       "      <td>0.00000</td>\n",
       "      <td>0.135</td>\n",
       "      <td>0.137</td>\n",
       "      <td>113.003</td>\n",
       "      <td>pop, R&amp;B</td>\n",
       "      <td>[pop,, R&amp;B]</td>\n",
       "      <td>1</td>\n",
       "    </tr>\n",
       "  </tbody>\n",
       "</table>\n",
       "</div>"
      ],
      "text/plain": [
       "          artist            song  duration_ms  explicit  year  popularity  danceability  energy  key  loudness  mode  speechiness  acousticness  instrumentalness  liveness  valence    tempo              genre              genre_list popularity_binned\n",
       "1869       Drake  In My Feelings       217925      True  2018          75         0.835   0.626    1    -5.833     1       0.1250        0.0589           0.00006     0.396    0.350   91.030  hip hop, pop, R&B  [hip, hop,, pop,, R&B]                 1\n",
       "1511  The Weeknd       The Hills       242253      True  2015          84         0.585   0.564    0    -7.063     0       0.0515        0.0671           0.00000     0.135    0.137  113.003           pop, R&B             [pop,, R&B]                 1"
      ]
     },
     "execution_count": 13,
     "metadata": {},
     "output_type": "execute_result"
    }
   ],
   "source": [
    "# let's go through the columns and start processing the data\n",
    "# .head to get the column names faster\n",
    "split_train.head(2)"
   ]
  },
  {
   "cell_type": "code",
   "execution_count": 14,
   "id": "99ec2b8f",
   "metadata": {},
   "outputs": [
    {
     "data": {
      "text/plain": [
       "count      1600.000000\n",
       "mean     229066.065625\n",
       "std       39484.854532\n",
       "min      114893.000000\n",
       "25%      203502.750000\n",
       "50%      223471.500000\n",
       "75%      248639.500000\n",
       "max      484146.000000\n",
       "Name: duration_ms, dtype: float64"
      ]
     },
     "execution_count": 14,
     "metadata": {},
     "output_type": "execute_result"
    }
   ],
   "source": [
    "split_train['duration_ms'].describe()\n",
    "# duration is important, however ms is a tad unwieldy. We should convert this column into full seconds"
   ]
  },
  {
   "cell_type": "code",
   "execution_count": 15,
   "id": "db9ab293",
   "metadata": {},
   "outputs": [
    {
     "data": {
      "text/plain": [
       "count      1600\n",
       "unique        2\n",
       "top       False\n",
       "freq       1164\n",
       "Name: explicit, dtype: object"
      ]
     },
     "execution_count": 15,
     "metadata": {},
     "output_type": "execute_result"
    }
   ],
   "source": [
    "split_train['explicit'].describe()\n",
    "# this is a t/f boolean. Feeding this into a model, this might be best converted to a 1/0. However, I don't think it will be\n",
    "# necessary to."
   ]
  },
  {
   "cell_type": "code",
   "execution_count": 16,
   "id": "a14beb62",
   "metadata": {},
   "outputs": [
    {
     "data": {
      "text/plain": [
       "<bound method IndexOpsMixin.value_counts of 1869    2018\n",
       "1511    2015\n",
       "1743    2017\n",
       "201     2002\n",
       "856     2008\n",
       "        ... \n",
       "1406    2014\n",
       "67      2000\n",
       "482     2003\n",
       "1530    2014\n",
       "300     2003\n",
       "Name: year, Length: 1600, dtype: int64>"
      ]
     },
     "execution_count": 16,
     "metadata": {},
     "output_type": "execute_result"
    }
   ],
   "source": [
    "split_train['year'].value_counts\n",
    "# year column doesn't seem to be too relevant. However, to limit the amount of options let's bin this"
   ]
  },
  {
   "cell_type": "code",
   "execution_count": 17,
   "id": "cd794ef7",
   "metadata": {},
   "outputs": [],
   "source": [
    "# let's take the release year and subtract it from the current year in both train and test sets\n",
    "split_train['age'] = 2022 - split_train['year'] \n",
    "split_test['age'] = 2022 - split_test['year'] \n",
    "\n",
    "# now we'll bin them in both to reduce the variability\n",
    "split_train[\"age_binned\"]=pd.cut(split_train[\"age\"],\n",
    "                              bins = [0, 5, 15, 30],\n",
    "                              labels = [1, 2, 3], include_lowest = True)\n",
    "\n",
    "split_test[\"age_binned\"]=pd.cut(split_test[\"age\"],\n",
    "                              bins = [0, 5, 15, 30],\n",
    "                              labels = [1, 2, 3],include_lowest = True)"
   ]
  },
  {
   "cell_type": "code",
   "execution_count": 18,
   "id": "b69d364b",
   "metadata": {},
   "outputs": [
    {
     "data": {
      "text/plain": [
       "count    1600.000000\n",
       "mean        0.671513\n",
       "std         0.141112\n",
       "min         0.179000\n",
       "25%         0.585000\n",
       "50%         0.680000\n",
       "75%         0.771000\n",
       "max         0.975000\n",
       "Name: danceability, dtype: float64"
      ]
     },
     "execution_count": 18,
     "metadata": {},
     "output_type": "execute_result"
    }
   ],
   "source": [
    "# Danceability - A value of 0.0 is least danceable and 1.0 is most danceable.\n",
    "split_train['danceability'].describe()\n",
    "\n",
    "# this variable is already fairly preprocessed. This won't need any work from me."
   ]
  },
  {
   "cell_type": "code",
   "execution_count": 19,
   "id": "9cbec325",
   "metadata": {},
   "outputs": [
    {
     "data": {
      "text/plain": [
       "count    1600.000000\n",
       "mean        0.721387\n",
       "std         0.151418\n",
       "min         0.054900\n",
       "25%         0.626000\n",
       "50%         0.736000\n",
       "75%         0.841000\n",
       "max         0.999000\n",
       "Name: energy, dtype: float64"
      ]
     },
     "execution_count": 19,
     "metadata": {},
     "output_type": "execute_result"
    }
   ],
   "source": [
    "# Energy is a measure from 0.0 to 1.0 and represents a perceptual measure of intensity and activity.\n",
    "split_train['energy'].describe()\n",
    "\n",
    "# this variable is already fairly preprocessed. This won't need any work from me."
   ]
  },
  {
   "cell_type": "code",
   "execution_count": 20,
   "id": "7e58c40b",
   "metadata": {},
   "outputs": [
    {
     "data": {
      "text/plain": [
       "count    1600.000000\n",
       "mean        5.363750\n",
       "std         3.612422\n",
       "min         0.000000\n",
       "25%         2.000000\n",
       "50%         6.000000\n",
       "75%         8.000000\n",
       "max        11.000000\n",
       "Name: key, dtype: float64"
      ]
     },
     "execution_count": 20,
     "metadata": {},
     "output_type": "execute_result"
    }
   ],
   "source": [
    "# Key - he key the track is in. Integers map to pitches using standard Pitch Class notation. E.g. 0 = C, 1 = C♯/D♭, 2 = D, and so on. \n",
    "split_train['key'].describe()\n",
    "\n",
    "# song keys are typically categorical. This column will need to be altered a bit to take this into account"
   ]
  },
  {
   "cell_type": "code",
   "execution_count": 21,
   "id": "9ccd083d",
   "metadata": {},
   "outputs": [
    {
     "data": {
      "text/plain": [
       "count    1600.000000\n",
       "mean       -5.503811\n",
       "std         1.927214\n",
       "min       -20.514000\n",
       "25%        -6.479000\n",
       "50%        -5.263500\n",
       "75%        -4.167000\n",
       "max        -0.276000\n",
       "Name: loudness, dtype: float64"
      ]
     },
     "execution_count": 21,
     "metadata": {},
     "output_type": "execute_result"
    }
   ],
   "source": [
    "# Loudness - Values typically range between -60 and 0 db. \n",
    "split_train['loudness'].describe()\n",
    "\n",
    "# this variable is already fairly preprocessed. This won't need any work from me."
   ]
  },
  {
   "cell_type": "code",
   "execution_count": 22,
   "id": "bd3f96d0",
   "metadata": {},
   "outputs": [
    {
     "data": {
      "text/plain": [
       "1    882\n",
       "0    718\n",
       "Name: mode, dtype: int64"
      ]
     },
     "execution_count": 22,
     "metadata": {},
     "output_type": "execute_result"
    }
   ],
   "source": [
    "# Feature 8: mode: Mode indicates the modality (major or minor) of a track,\n",
    "# the type of scale from which its melodic content is derived. Major is represented by 1 and minor is 0.\n",
    "split_train['mode'].value_counts()\n",
    "\n",
    "# mode here is being used similarly to a t/f boolean, however is being shown as maj/min boolean.\n",
    "# This won't need any work from me."
   ]
  },
  {
   "cell_type": "code",
   "execution_count": 23,
   "id": "8e19633e",
   "metadata": {},
   "outputs": [
    {
     "data": {
      "text/plain": [
       "count    1600.000000\n",
       "mean        0.103749\n",
       "std         0.096478\n",
       "min         0.023200\n",
       "25%         0.039850\n",
       "50%         0.060000\n",
       "75%         0.128000\n",
       "max         0.576000\n",
       "Name: speechiness, dtype: float64"
      ]
     },
     "execution_count": 23,
     "metadata": {},
     "output_type": "execute_result"
    }
   ],
   "source": [
    "# Speechiness detects the presence of spoken words in a track. The more exclusively speech-like \n",
    "# the recording (e.g. talk show, audio book, poetry), the closer to 1.0 the attribute value. Values \n",
    "# above 0.66 describe tracks that are probably made entirely of spoken words. \n",
    "# Values between 0.33 and 0.66 describe tracks that may contain both music and speech, either in sections or layered, \n",
    "# including such cases as rap music. Values below 0.33 most likely represent music and other non-speech-like tracks.\n",
    "split_train['speechiness'].describe()\n",
    "\n",
    "# this variable is already fairly preprocessed. This won't need any work from me."
   ]
  },
  {
   "cell_type": "code",
   "execution_count": 24,
   "id": "e705adb2",
   "metadata": {},
   "outputs": [
    {
     "data": {
      "text/plain": [
       "count    1600.000000\n",
       "mean        0.126943\n",
       "std         0.171726\n",
       "min         0.000019\n",
       "25%         0.013475\n",
       "50%         0.054750\n",
       "75%         0.173250\n",
       "max         0.976000\n",
       "Name: acousticness, dtype: float64"
      ]
     },
     "execution_count": 24,
     "metadata": {},
     "output_type": "execute_result"
    }
   ],
   "source": [
    "# Acousticness: A confidence measure from 0.0 to 1.0 \n",
    "# of whether the track is acoustic. 1.0 represents high confidence the track is acoustic.\n",
    "split_train['acousticness'].describe()\n",
    "\n",
    "# this variable is already fairly preprocessed. This won't need any work from me."
   ]
  },
  {
   "cell_type": "code",
   "execution_count": 25,
   "id": "276f7bb4",
   "metadata": {},
   "outputs": [
    {
     "data": {
      "text/plain": [
       "count    1600.000000\n",
       "mean        0.016573\n",
       "std         0.092426\n",
       "min         0.000000\n",
       "25%         0.000000\n",
       "50%         0.000000\n",
       "75%         0.000071\n",
       "max         0.985000\n",
       "Name: instrumentalness, dtype: float64"
      ]
     },
     "execution_count": 25,
     "metadata": {},
     "output_type": "execute_result"
    }
   ],
   "source": [
    "# Instrumentalness: Predicts whether a track contains no vocals. \"Ooh\" and \"aah\" sounds are treated as instrumental in this \n",
    "# context. Rap or spoken word tracks are clearly \"vocal\". The closer the instrumentalness value is to 1.0, the greater \n",
    "# likelihood the track contains no vocal content. Values above 0.5 are intended to represent instrumental tracks, but\n",
    "# confidence is higher as the value approaches 1.0\n",
    "split_train['instrumentalness'].describe()\n",
    "\n",
    "# this variable is already fairly preprocessed. However, the skewness and kurtosis of this column indicates that a standard\n",
    "# scaler might help make this easier to work with. (75% percentile is only .000062, however max is .985000)"
   ]
  },
  {
   "cell_type": "code",
   "execution_count": 26,
   "id": "a12bc12d",
   "metadata": {},
   "outputs": [
    {
     "data": {
      "text/plain": [
       "count    1600.000000\n",
       "mean        0.179024\n",
       "std         0.140756\n",
       "min         0.021500\n",
       "25%         0.086775\n",
       "50%         0.124000\n",
       "75%         0.233250\n",
       "max         0.853000\n",
       "Name: liveness, dtype: float64"
      ]
     },
     "execution_count": 26,
     "metadata": {},
     "output_type": "execute_result"
    }
   ],
   "source": [
    "# liveness: Detects the presence of an audience in the recording. Higher liveness values represent an increased probability\n",
    "# that the track was performed live. A value above 0.8 provides strong likelihood that the track is live.\n",
    "split_train['liveness'].describe()"
   ]
  },
  {
   "cell_type": "code",
   "execution_count": 27,
   "id": "044a6b9d",
   "metadata": {},
   "outputs": [
    {
     "data": {
      "text/plain": [
       "count    1600.000000\n",
       "mean        0.555079\n",
       "std         0.223600\n",
       "min         0.038100\n",
       "25%         0.387000\n",
       "50%         0.560500\n",
       "75%         0.738000\n",
       "max         0.973000\n",
       "Name: valence, dtype: float64"
      ]
     },
     "execution_count": 27,
     "metadata": {},
     "output_type": "execute_result"
    }
   ],
   "source": [
    "# Valence: A measure from 0.0 to 1.0 describing the musical positiveness conveyed by a track. Tracks with high\n",
    "# valence sound more positive (e.g. happy, cheerful, euphoric), while tracks with low valence sound more negative\n",
    "# (e.g. sad, depressed, angry).\n",
    "split_train['valence'].describe()\n",
    "\n",
    "# this variable is already fairly preprocessed. This won't need any work from me."
   ]
  },
  {
   "cell_type": "code",
   "execution_count": 28,
   "id": "399c43a2",
   "metadata": {},
   "outputs": [
    {
     "data": {
      "text/plain": [
       "count    1600.000000\n",
       "mean      119.565425\n",
       "std        26.890377\n",
       "min        60.019000\n",
       "25%        98.060000\n",
       "50%       119.992000\n",
       "75%       133.592000\n",
       "max       210.851000\n",
       "Name: tempo, dtype: float64"
      ]
     },
     "execution_count": 28,
     "metadata": {},
     "output_type": "execute_result"
    }
   ],
   "source": [
    "# tempo: The overall estimated tempo of a track in beats per minute (BPM). In musical terminology, \n",
    "# tempo is the speed or pace of a given piece and derives directly from the average beat duration.\n",
    "split_train['tempo'].describe()\n",
    "\n",
    "# this variable is already fairly preprocessed. This won't need any work from me."
   ]
  },
  {
   "cell_type": "markdown",
   "id": "d5d4cda2",
   "metadata": {},
   "source": [
    "We've cleaned up the genres, and decided a standard scaler will be useful for instrumentalism. Converting ms might be useful.\n",
    "Now let's look at some correlation matrices"
   ]
  },
  {
   "cell_type": "code",
   "execution_count": 29,
   "id": "8e80aa40",
   "metadata": {},
   "outputs": [
    {
     "data": {
      "text/plain": [
       "duration_ms         0.054830\n",
       "explicit            0.080530\n",
       "year               -0.022828\n",
       "popularity          1.000000\n",
       "danceability        0.006018\n",
       "energy             -0.016046\n",
       "key                 0.034523\n",
       "loudness            0.039392\n",
       "mode               -0.024705\n",
       "speechiness         0.038875\n",
       "acousticness        0.019229\n",
       "instrumentalness   -0.063858\n",
       "liveness           -0.012743\n",
       "valence            -0.029968\n",
       "tempo              -0.003411\n",
       "age                 0.022828\n",
       "Name: popularity, dtype: float64"
      ]
     },
     "execution_count": 29,
     "metadata": {},
     "output_type": "execute_result"
    }
   ],
   "source": [
    "correlation_matrix_spotify = split_train.corr()\n",
    "\n",
    "# let's grab the popularity column to see if there's any strong correlations to popularity from other variables\n",
    "correlation_matrix_spotify.popularity\n",
    "\n",
    "# doesn't appear to be any strong correlations here."
   ]
  },
  {
   "cell_type": "code",
   "execution_count": 30,
   "id": "669ba09b",
   "metadata": {},
   "outputs": [
    {
     "data": {
      "text/plain": [
       "<seaborn.axisgrid.FacetGrid at 0x1f7fb6eba60>"
      ]
     },
     "execution_count": 30,
     "metadata": {},
     "output_type": "execute_result"
    },
    {
     "data": {
      "image/png": "[encoded data removed]",
      "text/plain": [
       "<Figure size 360x360 with 1 Axes>"
      ]
     },
     "metadata": {
      "needs_background": "light"
     },
     "output_type": "display_data"
    }
   ],
   "source": [
    "# let's look to see how popularity compares to the key of the song\n",
    "sns.catplot(x=\"key\", y=\"popularity\", kind=\"box\", data=spotify_df)\n",
    "\n",
    "# here we can see that key 3 (D#) has a tighter popularity, where as key 4 (E) has a much wider spread with more outliers"
   ]
  },
  {
   "cell_type": "code",
   "execution_count": 31,
   "id": "f5fe22d0",
   "metadata": {},
   "outputs": [
    {
     "data": {
      "text/plain": [
       "<seaborn.axisgrid.FacetGrid at 0x1f7fa2c93d0>"
      ]
     },
     "execution_count": 31,
     "metadata": {},
     "output_type": "execute_result"
    },
    {
     "data": {
      "image/png": "[encoded data removed]",
      "text/plain": [
       "<Figure size 360x360 with 1 Axes>"
      ]
     },
     "metadata": {
      "needs_background": "light"
     },
     "output_type": "display_data"
    }
   ],
   "source": [
    "sns.catplot(x=\"explicit\", y=\"popularity\", kind=\"box\", data=spotify_df)\n",
    "\n",
    "# this leads to me believe that explicit songs are more popular, due to the tighter spread on true.\n",
    "# However, the overall spreads are similar enough that I can't see a real correlation between the explicity and popularity."
   ]
  },
  {
   "cell_type": "code",
   "execution_count": 32,
   "id": "5be30ad4",
   "metadata": {},
   "outputs": [
    {
     "data": {
      "text/plain": [
       "<seaborn.axisgrid.FacetGrid at 0x1f7fb5a5190>"
      ]
     },
     "execution_count": 32,
     "metadata": {},
     "output_type": "execute_result"
    },
    {
     "data": {
      "image/png": "[encoded data removed]",
      "text/plain": [
       "<Figure size 360x360 with 1 Axes>"
      ]
     },
     "metadata": {
      "needs_background": "light"
     },
     "output_type": "display_data"
    }
   ],
   "source": [
    "sns.catplot(x=\"genre\", y=\"popularity\", kind=\"box\", data=spotify_df)\n",
    "# well. That's an ugly chart. But we can see a very wide spread amongst all genres. Even if this is unreadable. I would\n",
    "# most likely have to split things up by genre in order to find any real correlation between the genres themselves"
   ]
  },
  {
   "cell_type": "code",
   "execution_count": 33,
   "id": "8e9de806",
   "metadata": {},
   "outputs": [],
   "source": [
    "# let's clean up the text columns\n",
    "\n",
    "# grab the stopwords from nltk\n",
    "STOPWORDS = set(stopwords.words('english'))\n",
    "\n",
    "# grab the punctuation from the string library\n",
    "PUNCT_TO_REMOVE = string.punctuation\n",
    "\n",
    "# let's get rid of those punctuations\n",
    "def remove_punctuation(x):\n",
    "    return x.translate(str.maketrans('', '', PUNCT_TO_REMOVE))\n",
    "\n",
    "# clean the text with pounctuation remover\n",
    "def text_clean(x):\n",
    "    split_train[x]= split_train[x].str.lower() # lower case all the text for easier parsing\n",
    "    split_train[x] = split_train[x].apply(lambda x: remove_punctuation(x)) # delete the punctuation\n",
    "    \n",
    "# just remove the stop words from the nltk library\n",
    "def remove_stopwords(x):\n",
    "    return \" \".join([word for word in str(x).split() if word not in STOPWORDS])\n",
    "\n",
    "\n",
    "# run the functions based on column name\n",
    "text_clean('genre')\n",
    "text_clean('song')\n",
    "text_clean('artist')\n",
    "\n",
    "# run the functions for both train and test sets\n",
    "split_train['genre'] = split_train['genre'].apply(lambda x: remove_stopwords(x))\n",
    "split_train['song'] = split_train['song'].apply(lambda x: remove_stopwords(x))\n",
    "split_train['artist'] = split_train['artist'].apply(lambda x: remove_stopwords(x))\n",
    "\n",
    "split_test['genre'] = split_test['genre'].apply(lambda x: remove_stopwords(x))\n",
    "split_test['song'] = split_test['song'].apply(lambda x: remove_stopwords(x))\n",
    "split_test['artist'] = split_test['artist'].apply(lambda x: remove_stopwords(x))"
   ]
  },
  {
   "cell_type": "code",
   "execution_count": 34,
   "id": "da8fd670",
   "metadata": {},
   "outputs": [],
   "source": [
    "# let's use PorterStemmer to normalize some of the slang words\n",
    "stemmer = PorterStemmer()\n",
    "def stem_words(text):\n",
    "    return \" \".join([stemmer.stem(word) for word in text.split()])\n",
    "\n",
    "# apply to both test and train\n",
    "split_train[\"genre\"] = split_train[\"genre\"].apply(lambda text: stem_words(text))\n",
    "split_train[\"song\"] = split_train[\"song\"].apply(lambda text: stem_words(text))\n",
    "\n",
    "split_test[\"genre\"] = split_test[\"genre\"].apply(lambda text: stem_words(text))\n",
    "split_test[\"song\"] = split_test[\"song\"].apply(lambda text: stem_words(text))"
   ]
  },
  {
   "cell_type": "code",
   "execution_count": 35,
   "id": "bb85d270",
   "metadata": {},
   "outputs": [],
   "source": [
    "# lemmatizer merges inflected words with their real words for easier processing\n",
    "lemmatizer = WordNetLemmatizer()\n",
    "\n",
    "# map the words to their identifiers for easier processing\n",
    "wordnet_map = {\"N\":wordnet.NOUN, \"V\":wordnet.VERB, \"J\":wordnet.ADJ, \"R\":wordnet.ADV}\n",
    "\n",
    "# function to run the lematizer based on the map\n",
    "def lemmatize_words(text):\n",
    "    pos_tagged_text = nltk.pos_tag(text.split())\n",
    "    return \" \".join([lemmatizer.lemmatize(word, wordnet_map.get(pos[0], wordnet.NOUN)) for word, pos in pos_tagged_text])\n",
    "\n",
    "\n",
    "# apply to both sets\n",
    "split_train[\"genre\"] = split_train[\"genre\"].apply(lambda text: lemmatize_words(text))\n",
    "split_train[\"song\"] = split_train[\"song\"].apply(lambda text: lemmatize_words(text))\n",
    "\n",
    "split_test[\"genre\"] = split_test[\"genre\"].apply(lambda text: lemmatize_words(text))\n",
    "split_test[\"song\"] = split_test[\"song\"].apply(lambda text: lemmatize_words(text))"
   ]
  },
  {
   "cell_type": "code",
   "execution_count": 36,
   "id": "7ea1750e",
   "metadata": {},
   "outputs": [],
   "source": [
    "# let's create an object to hold all the column names that are numerical\n",
    "all_no_text = ['duration_ms', 'explicit', 'year', 'danceability', 'energy', 'key', 'loudness', 'mode', \n",
    "               'speechiness', 'acousticness', 'instrumentalness', 'liveness', 'valence', 'tempo', 'popularity_binned', 'age_binned']\n",
    "\n",
    "all_w_text = ['artist', 'song','genre', 'duration_ms', 'explicit', 'year',  'danceability',\n",
    "              'energy', 'key', 'loudness', 'mode', 'speechiness', 'acousticness', 'instrumentalness', 'liveness',\n",
    "              'valence', 'tempo', 'popularity_binned', 'age', 'age_binned']"
   ]
  },
  {
   "cell_type": "code",
   "execution_count": 37,
   "id": "e1f031ff",
   "metadata": {},
   "outputs": [],
   "source": [
    "# let's make the train and test set and get everything sorted\n",
    "X_train = split_train[all_no_text]\n",
    "Y_train = split_train['popularity_binned']\n",
    "\n",
    "X_test = split_test[all_no_text]\n",
    "Y_test = split_test['popularity_binned']\n",
    "\n",
    "X_train_text = split_train[all_w_text]\n",
    "X_test_text = split_test[all_w_text]"
   ]
  },
  {
   "cell_type": "code",
   "execution_count": 38,
   "id": "96ba3f5f",
   "metadata": {},
   "outputs": [],
   "source": [
    "# let's set up the encoders and scalers\n",
    "ohe = OneHotEncoder(handle_unknown='ignore')\n",
    "oe = OrdinalEncoder()\n",
    "scaler = StandardScaler()\n",
    "vect = CountVectorizer()\n",
    "\n",
    "logreg = LogisticRegression(solver='liblinear', multi_class='auto', random_state=9001, max_iter=1000)"
   ]
  },
  {
   "cell_type": "code",
   "execution_count": 39,
   "id": "249aefe7",
   "metadata": {},
   "outputs": [],
   "source": [
    "# Let's make the column transformer\n",
    "ct = make_column_transformer(\n",
    "    (ohe, ['explicit', 'key']),\n",
    "    (oe,['age_binned']),\n",
    "    (scaler, ['duration_ms', 'danceability', 'energy', 'loudness', 'mode',\n",
    "              'speechiness', 'acousticness', 'instrumentalness', 'liveness', 'valence', 'tempo']), remainder='drop')"
   ]
  },
  {
   "cell_type": "code",
   "execution_count": 40,
   "id": "bbb22fd2",
   "metadata": {},
   "outputs": [
    {
     "data": {
      "text/html": [
       "<style>#sk-container-id-1 {color: black;background-color: white;}#sk-container-id-1 pre{padding: 0;}#sk-container-id-1 div.sk-toggleable {background-color: white;}#sk-container-id-1 label.sk-toggleable__label {cursor: pointer;display: block;width: 100%;margin-bottom: 0;padding: 0.3em;box-sizing: border-box;text-align: center;}#sk-container-id-1 label.sk-toggleable__label-arrow:before {content: \"▸\";float: left;margin-right: 0.25em;color: #696969;}#sk-container-id-1 label.sk-toggleable__label-arrow:hover:before {color: black;}#sk-container-id-1 div.sk-estimator:hover label.sk-toggleable__label-arrow:before {color: black;}#sk-container-id-1 div.sk-toggleable__content {max-height: 0;max-width: 0;overflow: hidden;text-align: left;background-color: #f0f8ff;}#sk-container-id-1 div.sk-toggleable__content pre {margin: 0.2em;color: black;border-radius: 0.25em;background-color: #f0f8ff;}#sk-container-id-1 input.sk-toggleable__control:checked~div.sk-toggleable__content {max-height: 200px;max-width: 100%;overflow: auto;}#sk-container-id-1 input.sk-toggleable__control:checked~label.sk-toggleable__label-arrow:before {content: \"▾\";}#sk-container-id-1 div.sk-estimator input.sk-toggleable__control:checked~label.sk-toggleable__label {background-color: #d4ebff;}#sk-container-id-1 div.sk-label input.sk-toggleable__control:checked~label.sk-toggleable__label {background-color: #d4ebff;}#sk-container-id-1 input.sk-hidden--visually {border: 0;clip: rect(1px 1px 1px 1px);clip: rect(1px, 1px, 1px, 1px);height: 1px;margin: -1px;overflow: hidden;padding: 0;position: absolute;width: 1px;}#sk-container-id-1 div.sk-estimator {font-family: monospace;background-color: #f0f8ff;border: 1px dotted black;border-radius: 0.25em;box-sizing: border-box;margin-bottom: 0.5em;}#sk-container-id-1 div.sk-estimator:hover {background-color: #d4ebff;}#sk-container-id-1 div.sk-parallel-item::after {content: \"\";width: 100%;border-bottom: 1px solid gray;flex-grow: 1;}#sk-container-id-1 div.sk-label:hover label.sk-toggleable__label {background-color: #d4ebff;}#sk-container-id-1 div.sk-serial::before {content: \"\";position: absolute;border-left: 1px solid gray;box-sizing: border-box;top: 0;bottom: 0;left: 50%;z-index: 0;}#sk-container-id-1 div.sk-serial {display: flex;flex-direction: column;align-items: center;background-color: white;padding-right: 0.2em;padding-left: 0.2em;position: relative;}#sk-container-id-1 div.sk-item {position: relative;z-index: 1;}#sk-container-id-1 div.sk-parallel {display: flex;align-items: stretch;justify-content: center;background-color: white;position: relative;}#sk-container-id-1 div.sk-item::before, #sk-container-id-1 div.sk-parallel-item::before {content: \"\";position: absolute;border-left: 1px solid gray;box-sizing: border-box;top: 0;bottom: 0;left: 50%;z-index: -1;}#sk-container-id-1 div.sk-parallel-item {display: flex;flex-direction: column;z-index: 1;position: relative;background-color: white;}#sk-container-id-1 div.sk-parallel-item:first-child::after {align-self: flex-end;width: 50%;}#sk-container-id-1 div.sk-parallel-item:last-child::after {align-self: flex-start;width: 50%;}#sk-container-id-1 div.sk-parallel-item:only-child::after {width: 0;}#sk-container-id-1 div.sk-dashed-wrapped {border: 1px dashed gray;margin: 0 0.4em 0.5em 0.4em;box-sizing: border-box;padding-bottom: 0.4em;background-color: white;}#sk-container-id-1 div.sk-label label {font-family: monospace;font-weight: bold;display: inline-block;line-height: 1.2em;}#sk-container-id-1 div.sk-label-container {text-align: center;}#sk-container-id-1 div.sk-container {/* jupyter's `normalize.less` sets `[hidden] { display: none; }` but bootstrap.min.css set `[hidden] { display: none !important; }` so we also need the `!important` here to be able to override the default hidden behavior on the sphinx rendered scikit-learn.org. See: https://github.com/scikit-learn/scikit-learn/issues/21755 */display: inline-block !important;position: relative;}#sk-container-id-1 div.sk-text-repr-fallback {display: none;}</style><div id=\"sk-container-id-1\" class=\"sk-top-container\"><div class=\"sk-text-repr-fallback\"><pre>Pipeline(steps=[(&#x27;columntransformer&#x27;,\n",
       "                 ColumnTransformer(transformers=[(&#x27;onehotencoder&#x27;,\n",
       "                                                  OneHotEncoder(handle_unknown=&#x27;ignore&#x27;),\n",
       "                                                  [&#x27;explicit&#x27;, &#x27;key&#x27;]),\n",
       "                                                 (&#x27;ordinalencoder&#x27;,\n",
       "                                                  OrdinalEncoder(),\n",
       "                                                  [&#x27;age_binned&#x27;]),\n",
       "                                                 (&#x27;standardscaler&#x27;,\n",
       "                                                  StandardScaler(),\n",
       "                                                  [&#x27;duration_ms&#x27;,\n",
       "                                                   &#x27;danceability&#x27;, &#x27;energy&#x27;,\n",
       "                                                   &#x27;loudness&#x27;, &#x27;mode&#x27;,\n",
       "                                                   &#x27;speechiness&#x27;,\n",
       "                                                   &#x27;acousticness&#x27;,\n",
       "                                                   &#x27;instrumentalness&#x27;,\n",
       "                                                   &#x27;liveness&#x27;, &#x27;valence&#x27;,\n",
       "                                                   &#x27;tempo&#x27;])])),\n",
       "                (&#x27;logisticregression&#x27;,\n",
       "                 LogisticRegression(max_iter=1000, random_state=9001,\n",
       "                                    solver=&#x27;liblinear&#x27;))])</pre><b>In a Jupyter environment, please rerun this cell to show the HTML representation or trust the notebook. <br />On GitHub, the HTML representation is unable to render, please try loading this page with nbviewer.org.</b></div><div class=\"sk-container\" hidden><div class=\"sk-item sk-dashed-wrapped\"><div class=\"sk-label-container\"><div class=\"sk-label sk-toggleable\"><input class=\"sk-toggleable__control sk-hidden--visually\" id=\"sk-estimator-id-1\" type=\"checkbox\" ><label for=\"sk-estimator-id-1\" class=\"sk-toggleable__label sk-toggleable__label-arrow\">Pipeline</label><div class=\"sk-toggleable__content\"><pre>Pipeline(steps=[(&#x27;columntransformer&#x27;,\n",
       "                 ColumnTransformer(transformers=[(&#x27;onehotencoder&#x27;,\n",
       "                                                  OneHotEncoder(handle_unknown=&#x27;ignore&#x27;),\n",
       "                                                  [&#x27;explicit&#x27;, &#x27;key&#x27;]),\n",
       "                                                 (&#x27;ordinalencoder&#x27;,\n",
       "                                                  OrdinalEncoder(),\n",
       "                                                  [&#x27;age_binned&#x27;]),\n",
       "                                                 (&#x27;standardscaler&#x27;,\n",
       "                                                  StandardScaler(),\n",
       "                                                  [&#x27;duration_ms&#x27;,\n",
       "                                                   &#x27;danceability&#x27;, &#x27;energy&#x27;,\n",
       "                                                   &#x27;loudness&#x27;, &#x27;mode&#x27;,\n",
       "                                                   &#x27;speechiness&#x27;,\n",
       "                                                   &#x27;acousticness&#x27;,\n",
       "                                                   &#x27;instrumentalness&#x27;,\n",
       "                                                   &#x27;liveness&#x27;, &#x27;valence&#x27;,\n",
       "                                                   &#x27;tempo&#x27;])])),\n",
       "                (&#x27;logisticregression&#x27;,\n",
       "                 LogisticRegression(max_iter=1000, random_state=9001,\n",
       "                                    solver=&#x27;liblinear&#x27;))])</pre></div></div></div><div class=\"sk-serial\"><div class=\"sk-item sk-dashed-wrapped\"><div class=\"sk-label-container\"><div class=\"sk-label sk-toggleable\"><input class=\"sk-toggleable__control sk-hidden--visually\" id=\"sk-estimator-id-2\" type=\"checkbox\" ><label for=\"sk-estimator-id-2\" class=\"sk-toggleable__label sk-toggleable__label-arrow\">columntransformer: ColumnTransformer</label><div class=\"sk-toggleable__content\"><pre>ColumnTransformer(transformers=[(&#x27;onehotencoder&#x27;,\n",
       "                                 OneHotEncoder(handle_unknown=&#x27;ignore&#x27;),\n",
       "                                 [&#x27;explicit&#x27;, &#x27;key&#x27;]),\n",
       "                                (&#x27;ordinalencoder&#x27;, OrdinalEncoder(),\n",
       "                                 [&#x27;age_binned&#x27;]),\n",
       "                                (&#x27;standardscaler&#x27;, StandardScaler(),\n",
       "                                 [&#x27;duration_ms&#x27;, &#x27;danceability&#x27;, &#x27;energy&#x27;,\n",
       "                                  &#x27;loudness&#x27;, &#x27;mode&#x27;, &#x27;speechiness&#x27;,\n",
       "                                  &#x27;acousticness&#x27;, &#x27;instrumentalness&#x27;,\n",
       "                                  &#x27;liveness&#x27;, &#x27;valence&#x27;, &#x27;tempo&#x27;])])</pre></div></div></div><div class=\"sk-parallel\"><div class=\"sk-parallel-item\"><div class=\"sk-item\"><div class=\"sk-label-container\"><div class=\"sk-label sk-toggleable\"><input class=\"sk-toggleable__control sk-hidden--visually\" id=\"sk-estimator-id-3\" type=\"checkbox\" ><label for=\"sk-estimator-id-3\" class=\"sk-toggleable__label sk-toggleable__label-arrow\">onehotencoder</label><div class=\"sk-toggleable__content\"><pre>[&#x27;explicit&#x27;, &#x27;key&#x27;]</pre></div></div></div><div class=\"sk-serial\"><div class=\"sk-item\"><div class=\"sk-estimator sk-toggleable\"><input class=\"sk-toggleable__control sk-hidden--visually\" id=\"sk-estimator-id-4\" type=\"checkbox\" ><label for=\"sk-estimator-id-4\" class=\"sk-toggleable__label sk-toggleable__label-arrow\">OneHotEncoder</label><div class=\"sk-toggleable__content\"><pre>OneHotEncoder(handle_unknown=&#x27;ignore&#x27;)</pre></div></div></div></div></div></div><div class=\"sk-parallel-item\"><div class=\"sk-item\"><div class=\"sk-label-container\"><div class=\"sk-label sk-toggleable\"><input class=\"sk-toggleable__control sk-hidden--visually\" id=\"sk-estimator-id-5\" type=\"checkbox\" ><label for=\"sk-estimator-id-5\" class=\"sk-toggleable__label sk-toggleable__label-arrow\">ordinalencoder</label><div class=\"sk-toggleable__content\"><pre>[&#x27;age_binned&#x27;]</pre></div></div></div><div class=\"sk-serial\"><div class=\"sk-item\"><div class=\"sk-estimator sk-toggleable\"><input class=\"sk-toggleable__control sk-hidden--visually\" id=\"sk-estimator-id-6\" type=\"checkbox\" ><label for=\"sk-estimator-id-6\" class=\"sk-toggleable__label sk-toggleable__label-arrow\">OrdinalEncoder</label><div class=\"sk-toggleable__content\"><pre>OrdinalEncoder()</pre></div></div></div></div></div></div><div class=\"sk-parallel-item\"><div class=\"sk-item\"><div class=\"sk-label-container\"><div class=\"sk-label sk-toggleable\"><input class=\"sk-toggleable__control sk-hidden--visually\" id=\"sk-estimator-id-7\" type=\"checkbox\" ><label for=\"sk-estimator-id-7\" class=\"sk-toggleable__label sk-toggleable__label-arrow\">standardscaler</label><div class=\"sk-toggleable__content\"><pre>[&#x27;duration_ms&#x27;, &#x27;danceability&#x27;, &#x27;energy&#x27;, &#x27;loudness&#x27;, &#x27;mode&#x27;, &#x27;speechiness&#x27;, &#x27;acousticness&#x27;, &#x27;instrumentalness&#x27;, &#x27;liveness&#x27;, &#x27;valence&#x27;, &#x27;tempo&#x27;]</pre></div></div></div><div class=\"sk-serial\"><div class=\"sk-item\"><div class=\"sk-estimator sk-toggleable\"><input class=\"sk-toggleable__control sk-hidden--visually\" id=\"sk-estimator-id-8\" type=\"checkbox\" ><label for=\"sk-estimator-id-8\" class=\"sk-toggleable__label sk-toggleable__label-arrow\">StandardScaler</label><div class=\"sk-toggleable__content\"><pre>StandardScaler()</pre></div></div></div></div></div></div></div></div><div class=\"sk-item\"><div class=\"sk-estimator sk-toggleable\"><input class=\"sk-toggleable__control sk-hidden--visually\" id=\"sk-estimator-id-9\" type=\"checkbox\" ><label for=\"sk-estimator-id-9\" class=\"sk-toggleable__label sk-toggleable__label-arrow\">LogisticRegression</label><div class=\"sk-toggleable__content\"><pre>LogisticRegression(max_iter=1000, random_state=9001, solver=&#x27;liblinear&#x27;)</pre></div></div></div></div></div></div></div>"
      ],
      "text/plain": [
       "Pipeline(steps=[('columntransformer',\n",
       "                 ColumnTransformer(transformers=[('onehotencoder',\n",
       "                                                  OneHotEncoder(handle_unknown='ignore'),\n",
       "                                                  ['explicit', 'key']),\n",
       "                                                 ('ordinalencoder',\n",
       "                                                  OrdinalEncoder(),\n",
       "                                                  ['age_binned']),\n",
       "                                                 ('standardscaler',\n",
       "                                                  StandardScaler(),\n",
       "                                                  ['duration_ms',\n",
       "                                                   'danceability', 'energy',\n",
       "                                                   'loudness', 'mode',\n",
       "                                                   'speechiness',\n",
       "                                                   'acousticness',\n",
       "                                                   'instrumentalness',\n",
       "                                                   'liveness', 'valence',\n",
       "                                                   'tempo'])])),\n",
       "                ('logisticregression',\n",
       "                 LogisticRegression(max_iter=1000, random_state=9001,\n",
       "                                    solver='liblinear'))])"
      ]
     },
     "execution_count": 40,
     "metadata": {},
     "output_type": "execute_result"
    }
   ],
   "source": [
    "# Pipeline for Logistic Regression Classification problem\n",
    "\n",
    "# here we make the pipeline, and pass in nthe transformer before applying the logreg\n",
    "pipe_LR = make_pipeline(ct, logreg)\n",
    "\n",
    "# now we fit the logreg\n",
    "pipe_LR.fit(X_train, Y_train)"
   ]
  },
  {
   "cell_type": "code",
   "execution_count": 41,
   "id": "ea939e5b",
   "metadata": {},
   "outputs": [
    {
     "data": {
      "text/plain": [
       "0.6151875"
      ]
     },
     "execution_count": 41,
     "metadata": {},
     "output_type": "execute_result"
    }
   ],
   "source": [
    "# let's get the cross validation score after a few repititions\n",
    "cv = RepeatedStratifiedKFold(n_splits=10, n_repeats=10, random_state=9001)\n",
    "\n",
    "cross_val_score(pipe_LR, X_train, Y_train, cv=cv, scoring='accuracy').mean()"
   ]
  },
  {
   "cell_type": "code",
   "execution_count": 42,
   "id": "5ceaf97d",
   "metadata": {},
   "outputs": [],
   "source": [
    "# let's apply logreg params and see which regression works best\n",
    "params = {}\n",
    "params['logisticregression__penalty'] = ['l1', 'l2']\n",
    "params['logisticregression__C'] = [0.1, 1, 10]"
   ]
  },
  {
   "cell_type": "code",
   "execution_count": 43,
   "id": "fe14909a",
   "metadata": {},
   "outputs": [],
   "source": [
    "# let's apply the model and params to see average responses and how long the models take to run\n",
    "grid = GridSearchCV(pipe_LR, params, cv=cv, scoring='accuracy')\n",
    "grid.fit(X_train, Y_train);"
   ]
  },
  {
   "cell_type": "code",
   "execution_count": 44,
   "id": "61ed15b8",
   "metadata": {},
   "outputs": [
    {
     "data": {
      "text/html": [
       "<div>\n",
       "<style scoped>\n",
       "    .dataframe tbody tr th:only-of-type {\n",
       "        vertical-align: middle;\n",
       "    }\n",
       "\n",
       "    .dataframe tbody tr th {\n",
       "        vertical-align: top;\n",
       "    }\n",
       "\n",
       "    .dataframe thead th {\n",
       "        text-align: right;\n",
       "    }\n",
       "</style>\n",
       "<table border=\"1\" class=\"dataframe\">\n",
       "  <thead>\n",
       "    <tr style=\"text-align: right;\">\n",
       "      <th></th>\n",
       "      <th>mean_fit_time</th>\n",
       "      <th>std_fit_time</th>\n",
       "      <th>mean_score_time</th>\n",
       "      <th>std_score_time</th>\n",
       "      <th>param_logisticregression__C</th>\n",
       "      <th>param_logisticregression__penalty</th>\n",
       "      <th>params</th>\n",
       "      <th>split0_test_score</th>\n",
       "      <th>split1_test_score</th>\n",
       "      <th>split2_test_score</th>\n",
       "      <th>split3_test_score</th>\n",
       "      <th>split4_test_score</th>\n",
       "      <th>...</th>\n",
       "      <th>split91_test_score</th>\n",
       "      <th>split92_test_score</th>\n",
       "      <th>split93_test_score</th>\n",
       "      <th>split94_test_score</th>\n",
       "      <th>split95_test_score</th>\n",
       "      <th>split96_test_score</th>\n",
       "      <th>split97_test_score</th>\n",
       "      <th>split98_test_score</th>\n",
       "      <th>split99_test_score</th>\n",
       "      <th>mean_test_score</th>\n",
       "      <th>std_test_score</th>\n",
       "      <th>rank_test_score</th>\n",
       "    </tr>\n",
       "  </thead>\n",
       "  <tbody>\n",
       "    <tr>\n",
       "      <th>2</th>\n",
       "      <td>0.017367</td>\n",
       "      <td>0.003080</td>\n",
       "      <td>0.003899</td>\n",
       "      <td>0.000856</td>\n",
       "      <td>1</td>\n",
       "      <td>l1</td>\n",
       "      <td>{'logisticregression__C': 1, 'logisticregressi...</td>\n",
       "      <td>0.64375</td>\n",
       "      <td>0.61875</td>\n",
       "      <td>0.57500</td>\n",
       "      <td>0.63125</td>\n",
       "      <td>0.64375</td>\n",
       "      <td>...</td>\n",
       "      <td>0.55625</td>\n",
       "      <td>0.61875</td>\n",
       "      <td>0.64375</td>\n",
       "      <td>0.60000</td>\n",
       "      <td>0.62500</td>\n",
       "      <td>0.63750</td>\n",
       "      <td>0.65000</td>\n",
       "      <td>0.60000</td>\n",
       "      <td>0.60625</td>\n",
       "      <td>0.617688</td>\n",
       "      <td>0.028077</td>\n",
       "      <td>1</td>\n",
       "    </tr>\n",
       "    <tr>\n",
       "      <th>1</th>\n",
       "      <td>0.009243</td>\n",
       "      <td>0.002263</td>\n",
       "      <td>0.004081</td>\n",
       "      <td>0.001079</td>\n",
       "      <td>0.1</td>\n",
       "      <td>l2</td>\n",
       "      <td>{'logisticregression__C': 0.1, 'logisticregres...</td>\n",
       "      <td>0.64375</td>\n",
       "      <td>0.61875</td>\n",
       "      <td>0.57500</td>\n",
       "      <td>0.63125</td>\n",
       "      <td>0.62500</td>\n",
       "      <td>...</td>\n",
       "      <td>0.56875</td>\n",
       "      <td>0.61875</td>\n",
       "      <td>0.62500</td>\n",
       "      <td>0.57500</td>\n",
       "      <td>0.61875</td>\n",
       "      <td>0.64375</td>\n",
       "      <td>0.63750</td>\n",
       "      <td>0.61250</td>\n",
       "      <td>0.60625</td>\n",
       "      <td>0.615250</td>\n",
       "      <td>0.027334</td>\n",
       "      <td>2</td>\n",
       "    </tr>\n",
       "    <tr>\n",
       "      <th>3</th>\n",
       "      <td>0.008278</td>\n",
       "      <td>0.000403</td>\n",
       "      <td>0.003505</td>\n",
       "      <td>0.000265</td>\n",
       "      <td>1</td>\n",
       "      <td>l2</td>\n",
       "      <td>{'logisticregression__C': 1, 'logisticregressi...</td>\n",
       "      <td>0.62500</td>\n",
       "      <td>0.61875</td>\n",
       "      <td>0.57500</td>\n",
       "      <td>0.63125</td>\n",
       "      <td>0.63750</td>\n",
       "      <td>...</td>\n",
       "      <td>0.55625</td>\n",
       "      <td>0.62500</td>\n",
       "      <td>0.65000</td>\n",
       "      <td>0.58125</td>\n",
       "      <td>0.61875</td>\n",
       "      <td>0.62500</td>\n",
       "      <td>0.63750</td>\n",
       "      <td>0.61875</td>\n",
       "      <td>0.60625</td>\n",
       "      <td>0.615187</td>\n",
       "      <td>0.027290</td>\n",
       "      <td>3</td>\n",
       "    </tr>\n",
       "    <tr>\n",
       "      <th>4</th>\n",
       "      <td>0.091709</td>\n",
       "      <td>0.009417</td>\n",
       "      <td>0.003758</td>\n",
       "      <td>0.000506</td>\n",
       "      <td>10</td>\n",
       "      <td>l1</td>\n",
       "      <td>{'logisticregression__C': 10, 'logisticregress...</td>\n",
       "      <td>0.62500</td>\n",
       "      <td>0.62500</td>\n",
       "      <td>0.57500</td>\n",
       "      <td>0.63125</td>\n",
       "      <td>0.63125</td>\n",
       "      <td>...</td>\n",
       "      <td>0.55000</td>\n",
       "      <td>0.62500</td>\n",
       "      <td>0.65000</td>\n",
       "      <td>0.58750</td>\n",
       "      <td>0.61875</td>\n",
       "      <td>0.62500</td>\n",
       "      <td>0.63750</td>\n",
       "      <td>0.61250</td>\n",
       "      <td>0.60625</td>\n",
       "      <td>0.615000</td>\n",
       "      <td>0.027979</td>\n",
       "      <td>4</td>\n",
       "    </tr>\n",
       "    <tr>\n",
       "      <th>0</th>\n",
       "      <td>0.009195</td>\n",
       "      <td>0.000805</td>\n",
       "      <td>0.003729</td>\n",
       "      <td>0.000389</td>\n",
       "      <td>0.1</td>\n",
       "      <td>l1</td>\n",
       "      <td>{'logisticregression__C': 0.1, 'logisticregres...</td>\n",
       "      <td>0.65000</td>\n",
       "      <td>0.59375</td>\n",
       "      <td>0.58125</td>\n",
       "      <td>0.61875</td>\n",
       "      <td>0.62500</td>\n",
       "      <td>...</td>\n",
       "      <td>0.59375</td>\n",
       "      <td>0.60625</td>\n",
       "      <td>0.63750</td>\n",
       "      <td>0.61875</td>\n",
       "      <td>0.61250</td>\n",
       "      <td>0.63750</td>\n",
       "      <td>0.62500</td>\n",
       "      <td>0.60000</td>\n",
       "      <td>0.60625</td>\n",
       "      <td>0.614875</td>\n",
       "      <td>0.024777</td>\n",
       "      <td>5</td>\n",
       "    </tr>\n",
       "    <tr>\n",
       "      <th>5</th>\n",
       "      <td>0.008718</td>\n",
       "      <td>0.001011</td>\n",
       "      <td>0.003777</td>\n",
       "      <td>0.000606</td>\n",
       "      <td>10</td>\n",
       "      <td>l2</td>\n",
       "      <td>{'logisticregression__C': 10, 'logisticregress...</td>\n",
       "      <td>0.62500</td>\n",
       "      <td>0.61875</td>\n",
       "      <td>0.57500</td>\n",
       "      <td>0.63125</td>\n",
       "      <td>0.63750</td>\n",
       "      <td>...</td>\n",
       "      <td>0.55000</td>\n",
       "      <td>0.63125</td>\n",
       "      <td>0.65625</td>\n",
       "      <td>0.58750</td>\n",
       "      <td>0.61875</td>\n",
       "      <td>0.62500</td>\n",
       "      <td>0.63125</td>\n",
       "      <td>0.61250</td>\n",
       "      <td>0.60625</td>\n",
       "      <td>0.614688</td>\n",
       "      <td>0.027858</td>\n",
       "      <td>6</td>\n",
       "    </tr>\n",
       "  </tbody>\n",
       "</table>\n",
       "<p>6 rows × 110 columns</p>\n",
       "</div>"
      ],
      "text/plain": [
       "   mean_fit_time  std_fit_time  mean_score_time  std_score_time param_logisticregression__C param_logisticregression__penalty                                             params  split0_test_score  split1_test_score  split2_test_score  split3_test_score  split4_test_score  ...  split91_test_score  split92_test_score  split93_test_score  split94_test_score  split95_test_score  split96_test_score  split97_test_score  split98_test_score  split99_test_score  mean_test_score  std_test_score  rank_test_score\n",
       "2       0.017367      0.003080         0.003899        0.000856                           1                                l1  {'logisticregression__C': 1, 'logisticregressi...            0.64375            0.61875            0.57500            0.63125            0.64375  ...             0.55625             0.61875             0.64375             0.60000             0.62500             0.63750             0.65000             0.60000             0.60625         0.617688        0.028077                1\n",
       "1       0.009243      0.002263         0.004081        0.001079                         0.1                                l2  {'logisticregression__C': 0.1, 'logisticregres...            0.64375            0.61875            0.57500            0.63125            0.62500  ...             0.56875             0.61875             0.62500             0.57500             0.61875             0.64375             0.63750             0.61250             0.60625         0.615250        0.027334                2\n",
       "3       0.008278      0.000403         0.003505        0.000265                           1                                l2  {'logisticregression__C': 1, 'logisticregressi...            0.62500            0.61875            0.57500            0.63125            0.63750  ...             0.55625             0.62500             0.65000             0.58125             0.61875             0.62500             0.63750             0.61875             0.60625         0.615187        0.027290                3\n",
       "4       0.091709      0.009417         0.003758        0.000506                          10                                l1  {'logisticregression__C': 10, 'logisticregress...            0.62500            0.62500            0.57500            0.63125            0.63125  ...             0.55000             0.62500             0.65000             0.58750             0.61875             0.62500             0.63750             0.61250             0.60625         0.615000        0.027979                4\n",
       "0       0.009195      0.000805         0.003729        0.000389                         0.1                                l1  {'logisticregression__C': 0.1, 'logisticregres...            0.65000            0.59375            0.58125            0.61875            0.62500  ...             0.59375             0.60625             0.63750             0.61875             0.61250             0.63750             0.62500             0.60000             0.60625         0.614875        0.024777                5\n",
       "5       0.008718      0.001011         0.003777        0.000606                          10                                l2  {'logisticregression__C': 10, 'logisticregress...            0.62500            0.61875            0.57500            0.63125            0.63750  ...             0.55000             0.63125             0.65625             0.58750             0.61875             0.62500             0.63125             0.61250             0.60625         0.614688        0.027858                6\n",
       "\n",
       "[6 rows x 110 columns]"
      ]
     },
     "execution_count": 44,
     "metadata": {},
     "output_type": "execute_result"
    }
   ],
   "source": [
    "# now let's make a df of the results and desplay them.\n",
    "results = pd.DataFrame(grid.cv_results_)\n",
    "# let's sort them for easier readability\n",
    "results.sort_values('rank_test_score')\n",
    "\n",
    "# based off the sort, I can already tell the best avg score is .618125, using penalty l1 and C of 1"
   ]
  },
  {
   "cell_type": "code",
   "execution_count": 45,
   "id": "cad63afb",
   "metadata": {},
   "outputs": [
    {
     "data": {
      "text/plain": [
       "0.6176875000000002"
      ]
     },
     "execution_count": 45,
     "metadata": {},
     "output_type": "execute_result"
    }
   ],
   "source": [
    "# using the best_score_ function, we can confirm that .618125 was the best score\n",
    "grid.best_score_"
   ]
  },
  {
   "cell_type": "code",
   "execution_count": 46,
   "id": "f54c82af",
   "metadata": {},
   "outputs": [
    {
     "data": {
      "text/plain": [
       "{'logisticregression__C': 1, 'logisticregression__penalty': 'l1'}"
      ]
     },
     "execution_count": 46,
     "metadata": {},
     "output_type": "execute_result"
    }
   ],
   "source": [
    "# and best_params_ will grab the C and penalty that led to that score\n",
    "grid.best_params_"
   ]
  },
  {
   "cell_type": "code",
   "execution_count": 47,
   "id": "6bf91250",
   "metadata": {},
   "outputs": [],
   "source": [
    "# now let's see how the model works with text instead of just numerical values\n",
    "ct_w_text = make_column_transformer(\n",
    "    (ohe, ['explicit', 'key']),\n",
    "    (vect, 'genre','artist','song'),\n",
    "    (TfidfVectorizer(), 'genre','artist','song'),\n",
    "    (oe,['age_binned']),\n",
    "    (scaler, ['duration_ms', 'danceability', 'energy', 'loudness', 'mode', 'speechiness', 'acousticness', 'instrumentalness', 'liveness', 'valence', 'tempo']),\n",
    "    remainder='drop')"
   ]
  },
  {
   "cell_type": "code",
   "execution_count": 48,
   "id": "712b9e2c",
   "metadata": {},
   "outputs": [
    {
     "data": {
      "text/html": [
       "<style>#sk-container-id-2 {color: black;background-color: white;}#sk-container-id-2 pre{padding: 0;}#sk-container-id-2 div.sk-toggleable {background-color: white;}#sk-container-id-2 label.sk-toggleable__label {cursor: pointer;display: block;width: 100%;margin-bottom: 0;padding: 0.3em;box-sizing: border-box;text-align: center;}#sk-container-id-2 label.sk-toggleable__label-arrow:before {content: \"▸\";float: left;margin-right: 0.25em;color: #696969;}#sk-container-id-2 label.sk-toggleable__label-arrow:hover:before {color: black;}#sk-container-id-2 div.sk-estimator:hover label.sk-toggleable__label-arrow:before {color: black;}#sk-container-id-2 div.sk-toggleable__content {max-height: 0;max-width: 0;overflow: hidden;text-align: left;background-color: #f0f8ff;}#sk-container-id-2 div.sk-toggleable__content pre {margin: 0.2em;color: black;border-radius: 0.25em;background-color: #f0f8ff;}#sk-container-id-2 input.sk-toggleable__control:checked~div.sk-toggleable__content {max-height: 200px;max-width: 100%;overflow: auto;}#sk-container-id-2 input.sk-toggleable__control:checked~label.sk-toggleable__label-arrow:before {content: \"▾\";}#sk-container-id-2 div.sk-estimator input.sk-toggleable__control:checked~label.sk-toggleable__label {background-color: #d4ebff;}#sk-container-id-2 div.sk-label input.sk-toggleable__control:checked~label.sk-toggleable__label {background-color: #d4ebff;}#sk-container-id-2 input.sk-hidden--visually {border: 0;clip: rect(1px 1px 1px 1px);clip: rect(1px, 1px, 1px, 1px);height: 1px;margin: -1px;overflow: hidden;padding: 0;position: absolute;width: 1px;}#sk-container-id-2 div.sk-estimator {font-family: monospace;background-color: #f0f8ff;border: 1px dotted black;border-radius: 0.25em;box-sizing: border-box;margin-bottom: 0.5em;}#sk-container-id-2 div.sk-estimator:hover {background-color: #d4ebff;}#sk-container-id-2 div.sk-parallel-item::after {content: \"\";width: 100%;border-bottom: 1px solid gray;flex-grow: 1;}#sk-container-id-2 div.sk-label:hover label.sk-toggleable__label {background-color: #d4ebff;}#sk-container-id-2 div.sk-serial::before {content: \"\";position: absolute;border-left: 1px solid gray;box-sizing: border-box;top: 0;bottom: 0;left: 50%;z-index: 0;}#sk-container-id-2 div.sk-serial {display: flex;flex-direction: column;align-items: center;background-color: white;padding-right: 0.2em;padding-left: 0.2em;position: relative;}#sk-container-id-2 div.sk-item {position: relative;z-index: 1;}#sk-container-id-2 div.sk-parallel {display: flex;align-items: stretch;justify-content: center;background-color: white;position: relative;}#sk-container-id-2 div.sk-item::before, #sk-container-id-2 div.sk-parallel-item::before {content: \"\";position: absolute;border-left: 1px solid gray;box-sizing: border-box;top: 0;bottom: 0;left: 50%;z-index: -1;}#sk-container-id-2 div.sk-parallel-item {display: flex;flex-direction: column;z-index: 1;position: relative;background-color: white;}#sk-container-id-2 div.sk-parallel-item:first-child::after {align-self: flex-end;width: 50%;}#sk-container-id-2 div.sk-parallel-item:last-child::after {align-self: flex-start;width: 50%;}#sk-container-id-2 div.sk-parallel-item:only-child::after {width: 0;}#sk-container-id-2 div.sk-dashed-wrapped {border: 1px dashed gray;margin: 0 0.4em 0.5em 0.4em;box-sizing: border-box;padding-bottom: 0.4em;background-color: white;}#sk-container-id-2 div.sk-label label {font-family: monospace;font-weight: bold;display: inline-block;line-height: 1.2em;}#sk-container-id-2 div.sk-label-container {text-align: center;}#sk-container-id-2 div.sk-container {/* jupyter's `normalize.less` sets `[hidden] { display: none; }` but bootstrap.min.css set `[hidden] { display: none !important; }` so we also need the `!important` here to be able to override the default hidden behavior on the sphinx rendered scikit-learn.org. See: https://github.com/scikit-learn/scikit-learn/issues/21755 */display: inline-block !important;position: relative;}#sk-container-id-2 div.sk-text-repr-fallback {display: none;}</style><div id=\"sk-container-id-2\" class=\"sk-top-container\"><div class=\"sk-text-repr-fallback\"><pre>Pipeline(steps=[(&#x27;columntransformer&#x27;,\n",
       "                 ColumnTransformer(transformers=[(&#x27;onehotencoder&#x27;,\n",
       "                                                  OneHotEncoder(handle_unknown=&#x27;ignore&#x27;),\n",
       "                                                  [&#x27;explicit&#x27;, &#x27;key&#x27;]),\n",
       "                                                 (&#x27;countvectorizer&#x27;,\n",
       "                                                  CountVectorizer(), &#x27;genre&#x27;),\n",
       "                                                 (&#x27;tfidfvectorizer&#x27;,\n",
       "                                                  TfidfVectorizer(), &#x27;genre&#x27;),\n",
       "                                                 (&#x27;ordinalencoder&#x27;,\n",
       "                                                  OrdinalEncoder(),\n",
       "                                                  [&#x27;age_binned&#x27;]),\n",
       "                                                 (&#x27;standardscaler&#x27;,\n",
       "                                                  StandardScaler(),\n",
       "                                                  [&#x27;duration_ms&#x27;,\n",
       "                                                   &#x27;danceability&#x27;, &#x27;energy&#x27;,\n",
       "                                                   &#x27;loudness&#x27;, &#x27;mode&#x27;,\n",
       "                                                   &#x27;speechiness&#x27;,\n",
       "                                                   &#x27;acousticness&#x27;,\n",
       "                                                   &#x27;instrumentalness&#x27;,\n",
       "                                                   &#x27;liveness&#x27;, &#x27;valence&#x27;,\n",
       "                                                   &#x27;tempo&#x27;])])),\n",
       "                (&#x27;logisticregression&#x27;,\n",
       "                 LogisticRegression(max_iter=1000, random_state=9001,\n",
       "                                    solver=&#x27;liblinear&#x27;))])</pre><b>In a Jupyter environment, please rerun this cell to show the HTML representation or trust the notebook. <br />On GitHub, the HTML representation is unable to render, please try loading this page with nbviewer.org.</b></div><div class=\"sk-container\" hidden><div class=\"sk-item sk-dashed-wrapped\"><div class=\"sk-label-container\"><div class=\"sk-label sk-toggleable\"><input class=\"sk-toggleable__control sk-hidden--visually\" id=\"sk-estimator-id-10\" type=\"checkbox\" ><label for=\"sk-estimator-id-10\" class=\"sk-toggleable__label sk-toggleable__label-arrow\">Pipeline</label><div class=\"sk-toggleable__content\"><pre>Pipeline(steps=[(&#x27;columntransformer&#x27;,\n",
       "                 ColumnTransformer(transformers=[(&#x27;onehotencoder&#x27;,\n",
       "                                                  OneHotEncoder(handle_unknown=&#x27;ignore&#x27;),\n",
       "                                                  [&#x27;explicit&#x27;, &#x27;key&#x27;]),\n",
       "                                                 (&#x27;countvectorizer&#x27;,\n",
       "                                                  CountVectorizer(), &#x27;genre&#x27;),\n",
       "                                                 (&#x27;tfidfvectorizer&#x27;,\n",
       "                                                  TfidfVectorizer(), &#x27;genre&#x27;),\n",
       "                                                 (&#x27;ordinalencoder&#x27;,\n",
       "                                                  OrdinalEncoder(),\n",
       "                                                  [&#x27;age_binned&#x27;]),\n",
       "                                                 (&#x27;standardscaler&#x27;,\n",
       "                                                  StandardScaler(),\n",
       "                                                  [&#x27;duration_ms&#x27;,\n",
       "                                                   &#x27;danceability&#x27;, &#x27;energy&#x27;,\n",
       "                                                   &#x27;loudness&#x27;, &#x27;mode&#x27;,\n",
       "                                                   &#x27;speechiness&#x27;,\n",
       "                                                   &#x27;acousticness&#x27;,\n",
       "                                                   &#x27;instrumentalness&#x27;,\n",
       "                                                   &#x27;liveness&#x27;, &#x27;valence&#x27;,\n",
       "                                                   &#x27;tempo&#x27;])])),\n",
       "                (&#x27;logisticregression&#x27;,\n",
       "                 LogisticRegression(max_iter=1000, random_state=9001,\n",
       "                                    solver=&#x27;liblinear&#x27;))])</pre></div></div></div><div class=\"sk-serial\"><div class=\"sk-item sk-dashed-wrapped\"><div class=\"sk-label-container\"><div class=\"sk-label sk-toggleable\"><input class=\"sk-toggleable__control sk-hidden--visually\" id=\"sk-estimator-id-11\" type=\"checkbox\" ><label for=\"sk-estimator-id-11\" class=\"sk-toggleable__label sk-toggleable__label-arrow\">columntransformer: ColumnTransformer</label><div class=\"sk-toggleable__content\"><pre>ColumnTransformer(transformers=[(&#x27;onehotencoder&#x27;,\n",
       "                                 OneHotEncoder(handle_unknown=&#x27;ignore&#x27;),\n",
       "                                 [&#x27;explicit&#x27;, &#x27;key&#x27;]),\n",
       "                                (&#x27;countvectorizer&#x27;, CountVectorizer(), &#x27;genre&#x27;),\n",
       "                                (&#x27;tfidfvectorizer&#x27;, TfidfVectorizer(), &#x27;genre&#x27;),\n",
       "                                (&#x27;ordinalencoder&#x27;, OrdinalEncoder(),\n",
       "                                 [&#x27;age_binned&#x27;]),\n",
       "                                (&#x27;standardscaler&#x27;, StandardScaler(),\n",
       "                                 [&#x27;duration_ms&#x27;, &#x27;danceability&#x27;, &#x27;energy&#x27;,\n",
       "                                  &#x27;loudness&#x27;, &#x27;mode&#x27;, &#x27;speechiness&#x27;,\n",
       "                                  &#x27;acousticness&#x27;, &#x27;instrumentalness&#x27;,\n",
       "                                  &#x27;liveness&#x27;, &#x27;valence&#x27;, &#x27;tempo&#x27;])])</pre></div></div></div><div class=\"sk-parallel\"><div class=\"sk-parallel-item\"><div class=\"sk-item\"><div class=\"sk-label-container\"><div class=\"sk-label sk-toggleable\"><input class=\"sk-toggleable__control sk-hidden--visually\" id=\"sk-estimator-id-12\" type=\"checkbox\" ><label for=\"sk-estimator-id-12\" class=\"sk-toggleable__label sk-toggleable__label-arrow\">onehotencoder</label><div class=\"sk-toggleable__content\"><pre>[&#x27;explicit&#x27;, &#x27;key&#x27;]</pre></div></div></div><div class=\"sk-serial\"><div class=\"sk-item\"><div class=\"sk-estimator sk-toggleable\"><input class=\"sk-toggleable__control sk-hidden--visually\" id=\"sk-estimator-id-13\" type=\"checkbox\" ><label for=\"sk-estimator-id-13\" class=\"sk-toggleable__label sk-toggleable__label-arrow\">OneHotEncoder</label><div class=\"sk-toggleable__content\"><pre>OneHotEncoder(handle_unknown=&#x27;ignore&#x27;)</pre></div></div></div></div></div></div><div class=\"sk-parallel-item\"><div class=\"sk-item\"><div class=\"sk-label-container\"><div class=\"sk-label sk-toggleable\"><input class=\"sk-toggleable__control sk-hidden--visually\" id=\"sk-estimator-id-14\" type=\"checkbox\" ><label for=\"sk-estimator-id-14\" class=\"sk-toggleable__label sk-toggleable__label-arrow\">countvectorizer</label><div class=\"sk-toggleable__content\"><pre>genre</pre></div></div></div><div class=\"sk-serial\"><div class=\"sk-item\"><div class=\"sk-estimator sk-toggleable\"><input class=\"sk-toggleable__control sk-hidden--visually\" id=\"sk-estimator-id-15\" type=\"checkbox\" ><label for=\"sk-estimator-id-15\" class=\"sk-toggleable__label sk-toggleable__label-arrow\">CountVectorizer</label><div class=\"sk-toggleable__content\"><pre>CountVectorizer()</pre></div></div></div></div></div></div><div class=\"sk-parallel-item\"><div class=\"sk-item\"><div class=\"sk-label-container\"><div class=\"sk-label sk-toggleable\"><input class=\"sk-toggleable__control sk-hidden--visually\" id=\"sk-estimator-id-16\" type=\"checkbox\" ><label for=\"sk-estimator-id-16\" class=\"sk-toggleable__label sk-toggleable__label-arrow\">tfidfvectorizer</label><div class=\"sk-toggleable__content\"><pre>genre</pre></div></div></div><div class=\"sk-serial\"><div class=\"sk-item\"><div class=\"sk-estimator sk-toggleable\"><input class=\"sk-toggleable__control sk-hidden--visually\" id=\"sk-estimator-id-17\" type=\"checkbox\" ><label for=\"sk-estimator-id-17\" class=\"sk-toggleable__label sk-toggleable__label-arrow\">TfidfVectorizer</label><div class=\"sk-toggleable__content\"><pre>TfidfVectorizer()</pre></div></div></div></div></div></div><div class=\"sk-parallel-item\"><div class=\"sk-item\"><div class=\"sk-label-container\"><div class=\"sk-label sk-toggleable\"><input class=\"sk-toggleable__control sk-hidden--visually\" id=\"sk-estimator-id-18\" type=\"checkbox\" ><label for=\"sk-estimator-id-18\" class=\"sk-toggleable__label sk-toggleable__label-arrow\">ordinalencoder</label><div class=\"sk-toggleable__content\"><pre>[&#x27;age_binned&#x27;]</pre></div></div></div><div class=\"sk-serial\"><div class=\"sk-item\"><div class=\"sk-estimator sk-toggleable\"><input class=\"sk-toggleable__control sk-hidden--visually\" id=\"sk-estimator-id-19\" type=\"checkbox\" ><label for=\"sk-estimator-id-19\" class=\"sk-toggleable__label sk-toggleable__label-arrow\">OrdinalEncoder</label><div class=\"sk-toggleable__content\"><pre>OrdinalEncoder()</pre></div></div></div></div></div></div><div class=\"sk-parallel-item\"><div class=\"sk-item\"><div class=\"sk-label-container\"><div class=\"sk-label sk-toggleable\"><input class=\"sk-toggleable__control sk-hidden--visually\" id=\"sk-estimator-id-20\" type=\"checkbox\" ><label for=\"sk-estimator-id-20\" class=\"sk-toggleable__label sk-toggleable__label-arrow\">standardscaler</label><div class=\"sk-toggleable__content\"><pre>[&#x27;duration_ms&#x27;, &#x27;danceability&#x27;, &#x27;energy&#x27;, &#x27;loudness&#x27;, &#x27;mode&#x27;, &#x27;speechiness&#x27;, &#x27;acousticness&#x27;, &#x27;instrumentalness&#x27;, &#x27;liveness&#x27;, &#x27;valence&#x27;, &#x27;tempo&#x27;]</pre></div></div></div><div class=\"sk-serial\"><div class=\"sk-item\"><div class=\"sk-estimator sk-toggleable\"><input class=\"sk-toggleable__control sk-hidden--visually\" id=\"sk-estimator-id-21\" type=\"checkbox\" ><label for=\"sk-estimator-id-21\" class=\"sk-toggleable__label sk-toggleable__label-arrow\">StandardScaler</label><div class=\"sk-toggleable__content\"><pre>StandardScaler()</pre></div></div></div></div></div></div></div></div><div class=\"sk-item\"><div class=\"sk-estimator sk-toggleable\"><input class=\"sk-toggleable__control sk-hidden--visually\" id=\"sk-estimator-id-22\" type=\"checkbox\" ><label for=\"sk-estimator-id-22\" class=\"sk-toggleable__label sk-toggleable__label-arrow\">LogisticRegression</label><div class=\"sk-toggleable__content\"><pre>LogisticRegression(max_iter=1000, random_state=9001, solver=&#x27;liblinear&#x27;)</pre></div></div></div></div></div></div></div>"
      ],
      "text/plain": [
       "Pipeline(steps=[('columntransformer',\n",
       "                 ColumnTransformer(transformers=[('onehotencoder',\n",
       "                                                  OneHotEncoder(handle_unknown='ignore'),\n",
       "                                                  ['explicit', 'key']),\n",
       "                                                 ('countvectorizer',\n",
       "                                                  CountVectorizer(), 'genre'),\n",
       "                                                 ('tfidfvectorizer',\n",
       "                                                  TfidfVectorizer(), 'genre'),\n",
       "                                                 ('ordinalencoder',\n",
       "                                                  OrdinalEncoder(),\n",
       "                                                  ['age_binned']),\n",
       "                                                 ('standardscaler',\n",
       "                                                  StandardScaler(),\n",
       "                                                  ['duration_ms',\n",
       "                                                   'danceability', 'energy',\n",
       "                                                   'loudness', 'mode',\n",
       "                                                   'speechiness',\n",
       "                                                   'acousticness',\n",
       "                                                   'instrumentalness',\n",
       "                                                   'liveness', 'valence',\n",
       "                                                   'tempo'])])),\n",
       "                ('logisticregression',\n",
       "                 LogisticRegression(max_iter=1000, random_state=9001,\n",
       "                                    solver='liblinear'))])"
      ]
     },
     "execution_count": 48,
     "metadata": {},
     "output_type": "execute_result"
    }
   ],
   "source": [
    "# using tfidf and countvectorizer, we can create another pipeline\n",
    "pipe_LR = make_pipeline(ct_w_text, logreg)\n",
    "pipe_LR.fit(X_train_text, Y_train)"
   ]
  },
  {
   "cell_type": "code",
   "execution_count": 49,
   "id": "44b4ecfd",
   "metadata": {},
   "outputs": [],
   "source": [
    "# let's grab the prediction for the classification report\n",
    "LR_pred = pipe_LR.predict(split_test)"
   ]
  },
  {
   "cell_type": "code",
   "execution_count": 50,
   "id": "2277a027",
   "metadata": {},
   "outputs": [
    {
     "name": "stdout",
     "output_type": "stream",
     "text": [
      "              precision    recall  f1-score   support\n",
      "\n",
      "           0       0.59      0.20      0.30       163\n",
      "           1       0.62      0.90      0.74       237\n",
      "\n",
      "    accuracy                           0.62       400\n",
      "   macro avg       0.61      0.55      0.52       400\n",
      "weighted avg       0.61      0.62      0.56       400\n",
      "\n"
     ]
    }
   ],
   "source": [
    "# here we see an accuracy of 62%, with a 74% accuracy for popular songs and only 30% accurate for unpopular songs\n",
    "print(classification_report(Y_test, LR_pred))"
   ]
  },
  {
   "cell_type": "markdown",
   "id": "12a65f01",
   "metadata": {},
   "source": [
    "Based off the classification report, I can see a glowing problem with the lack of data points. Only have 400 available for cross validation and 1600 for model building limits the ability to build an effective model. Finding a way to scale up this project will greatly improve our ability to create a working model to identify popular songs on Spotify. \n",
    "\n",
    "This dataset is mildly skewed. It is built from the top 2000 songs, so there is already a lean towards popularity. Comparing it to Spotify as a whole would also greatly benefit the overall performance.\n",
    "\n",
    "Long term, this model seems to be able to identify popular songs fairly well with only a 1/4 false positive. Connecting to the Spotify API and pulling data routinely would help flesh this model out as well.\n",
    "\n",
    "External variables to consider are how popular the artist is before the song comes out, and if the song was used in a movie recently. These 2 variables could drastically improve the popularity score of the individual song as well. "
   ]
  },
  {
   "cell_type": "code",
   "execution_count": null,
   "id": "1ed9edf4",
   "metadata": {},
   "outputs": [],
   "source": []
  }
 ],
 "metadata": {
  "kernelspec": {
   "display_name": "Python 3 (ipykernel)",
   "language": "python",
   "name": "python3"
  },
  "language_info": {
   "codemirror_mode": {
    "name": "ipython",
    "version": 3
   },
   "file_extension": ".py",
   "mimetype": "text/x-python",
   "name": "python",
   "nbconvert_exporter": "python",
   "pygments_lexer": "ipython3",
   "version": "3.9.7"
  }
 },
 "nbformat": 4,
 "nbformat_minor": 5
}
